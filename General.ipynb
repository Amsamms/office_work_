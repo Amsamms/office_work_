{
 "cells": [
  {
   "cell_type": "code",
   "execution_count": 9,
   "id": "be6e1b07",
   "metadata": {},
   "outputs": [],
   "source": [
    "import os\n",
    "from pathlib import Path"
   ]
  },
  {
   "cell_type": "code",
   "execution_count": null,
   "id": "90629655",
   "metadata": {},
   "outputs": [],
   "source": [
    "search parameter = "
   ]
  },
  {
   "cell_type": "code",
   "execution_count": 1,
   "id": "42bbad45",
   "metadata": {},
   "outputs": [],
   "source": [
    "path='\\\\\\\\eprom\\\\fs\\\\Technical Library'"
   ]
  },
  {
   "cell_type": "code",
   "execution_count": 2,
   "id": "44cb35a9",
   "metadata": {},
   "outputs": [],
   "source": [
    "# finding the locaion of specefic file, in specefic directory,  first match\n",
    "def find(name, path):\n",
    "    for root, dirs, files in os.walk(path):\n",
    "        if name in files:\n",
    "            return os.path.join(root, name)"
   ]
  },
  {
   "cell_type": "code",
   "execution_count": 6,
   "id": "855b7f22",
   "metadata": {},
   "outputs": [
    {
     "data": {
      "text/plain": [
       "'original\\\\2018\\\\Dec.[12]\\\\Results\\\\15.12.2018.xlsx'"
      ]
     },
     "execution_count": 6,
     "metadata": {},
     "output_type": "execute_result"
    }
   ],
   "source": [
    "find('15.12.2018.xlsx', 'original')"
   ]
  },
  {
   "cell_type": "code",
   "execution_count": 7,
   "id": "cdbef21f",
   "metadata": {},
   "outputs": [],
   "source": [
    "# finding all locations of all files, in specefic directory, all matches\n",
    "def find_all(name, path):\n",
    "    result = []\n",
    "    for root, dirs, files in os.walk(path):\n",
    "        if name in files:\n",
    "            result.append(os.path.join(root, name))\n",
    "    return result"
   ]
  },
  {
   "cell_type": "code",
   "execution_count": 8,
   "id": "3391c5eb",
   "metadata": {},
   "outputs": [
    {
     "data": {
      "text/plain": [
       "['original\\\\2018\\\\Dec.[12]\\\\Results\\\\15.12.2018.xlsx']"
      ]
     },
     "execution_count": 8,
     "metadata": {},
     "output_type": "execute_result"
    }
   ],
   "source": [
    "find_all('15.12.2018.xlsx', 'original')"
   ]
  },
  {
   "cell_type": "code",
   "execution_count": null,
   "id": "4772508c",
   "metadata": {},
   "outputs": [],
   "source": [
    "f"
   ]
  }
 ],
 "metadata": {
  "kernelspec": {
   "display_name": "Python 3 (ipykernel)",
   "language": "python",
   "name": "python3"
  },
  "language_info": {
   "codemirror_mode": {
    "name": "ipython",
    "version": 3
   },
   "file_extension": ".py",
   "mimetype": "text/x-python",
   "name": "python",
   "nbconvert_exporter": "python",
   "pygments_lexer": "ipython3",
   "version": "3.9.7"
  }
 },
 "nbformat": 4,
 "nbformat_minor": 5
}
