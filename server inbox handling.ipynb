{
 "cells": [
  {
   "cell_type": "code",
   "execution_count": 1,
   "id": "6491c9d1",
   "metadata": {},
   "outputs": [],
   "source": [
    "import pandas as pd\n",
    "import win32com.client as client"
   ]
  },
  {
   "cell_type": "code",
   "execution_count": 2,
   "id": "46574e0f",
   "metadata": {},
   "outputs": [],
   "source": [
    "outlook= client.Dispatch('Outlook.Application')"
   ]
  },
  {
   "cell_type": "code",
   "execution_count": 3,
   "id": "003839d2",
   "metadata": {},
   "outputs": [],
   "source": [
    "namespace =outlook.GetNameSpace('MAPI')"
   ]
  },
  {
   "cell_type": "code",
   "execution_count": 4,
   "id": "2d7d87eb",
   "metadata": {},
   "outputs": [],
   "source": [
    "# 6 is the default number for inbox in GetDefaultFolder method\n",
    "inbox= namespace.GetDefaultFolder(6)"
   ]
  },
  {
   "cell_type": "code",
   "execution_count": 5,
   "id": "ec599f67",
   "metadata": {},
   "outputs": [
    {
     "data": {
      "text/plain": [
       "71"
      ]
     },
     "execution_count": 5,
     "metadata": {},
     "output_type": "execute_result"
    }
   ],
   "source": [
    "# number of massages inside personal_inbox folder\n",
    "inbox.items.count"
   ]
  },
  {
   "cell_type": "code",
   "execution_count": 6,
   "id": "8675fc02",
   "metadata": {},
   "outputs": [],
   "source": [
    "#looping through inbox to find subject\n",
    "massages=[]\n",
    "for massage in inbox.items:\n",
    "    massages.append(massage)"
   ]
  },
  {
   "cell_type": "code",
   "execution_count": 7,
   "id": "5a8cf3e6",
   "metadata": {},
   "outputs": [
    {
     "data": {
      "text/plain": [
       "71"
      ]
     },
     "execution_count": 7,
     "metadata": {},
     "output_type": "execute_result"
    }
   ],
   "source": [
    "len(massages)"
   ]
  },
  {
   "cell_type": "code",
   "execution_count": 8,
   "id": "cbb4d092",
   "metadata": {},
   "outputs": [
    {
     "name": "stdout",
     "output_type": "stream",
     "text": [
      "2\n",
      "3\n",
      "4\n",
      "5\n",
      "6\n",
      "7\n",
      "8\n",
      "9\n",
      "10\n",
      "11\n",
      "12\n",
      "13\n",
      "14\n",
      "15\n",
      "16\n",
      "17\n",
      "18\n",
      "19\n",
      "20\n",
      "21\n",
      "22\n",
      "23\n",
      "24\n",
      "25\n",
      "26\n",
      "27\n",
      "28\n",
      "29\n",
      "30\n",
      "31\n",
      "32\n",
      "33\n",
      "34\n",
      "35\n",
      "36\n",
      "37\n",
      "38\n",
      "39\n",
      "40\n",
      "41\n",
      "42\n",
      "43\n",
      "44\n",
      "45\n",
      "46\n",
      "47\n",
      "48\n",
      "49\n",
      "50\n",
      "51\n",
      "52\n",
      "53\n",
      "54\n",
      "55\n",
      "56\n",
      "57\n",
      "58\n",
      "59\n",
      "60\n",
      "61\n",
      "62\n",
      "63\n",
      "64\n",
      "65\n",
      "66\n",
      "67\n",
      "68\n",
      "69\n",
      "70\n",
      "71\n",
      "72\n"
     ]
    }
   ],
   "source": [
    "sendername=[]\n",
    "sendermail=[]\n",
    "To=[]\n",
    "subject=[]\n",
    "body=[]\n",
    "Categories=[]\n",
    "importance=[]\n",
    "parent=[]\n",
    "recievedtime=[]\n",
    "Recipients=[]\n",
    "CC=[]\n",
    "Attachments=[]\n",
    "Folderpath=[]\n",
    "\n",
    "num=1\n",
    "for massage in massages:\n",
    "    try:\n",
    "        sendername.append(massage.Sendername)\n",
    "    except:\n",
    "        sendername.append('')\n",
    "    try:    \n",
    "        sendermail.append(massage.SenderEmailAddress)\n",
    "    except:\n",
    "        sendermail.append('')\n",
    "    try:\n",
    "        To.append(massage.To)\n",
    "    except:\n",
    "        To.append('')\n",
    "    try:\n",
    "        CC.append(massage.CC)\n",
    "    except:\n",
    "        CC.append('') \n",
    "    try:\n",
    "        subject.append(massage.Subject)\n",
    "    except:\n",
    "        subject.append('')\n",
    "    try:\n",
    "        body.append(massage.body)\n",
    "    except:\n",
    "        body.append('')\n",
    "    try:\n",
    "        Categories.append(massage.Categories)\n",
    "    except:\n",
    "        Categories.append('')\n",
    "    try:\n",
    "        importance.append(massage.Importance)\n",
    "    except:\n",
    "        importance.append('')\n",
    "    try:\n",
    "        parent.append(massage.Parent)\n",
    "    except:\n",
    "        parent.append('')    \n",
    "    try:\n",
    "        recievedtime.append(massage.ReceivedTime)\n",
    "    except:\n",
    "        recievedtime.append('')\n",
    "    try:\n",
    "        Recipients.append(massage.Recipients)\n",
    "    except:\n",
    "        Recipients.append('')\n",
    "    try:\n",
    "        Attachments.append(massage.Attachments)\n",
    "    except:\n",
    "        Attachments.append('')\n",
    "    try:\n",
    "        Folderpath.append(massage.parent.Folderpath)\n",
    "    except:\n",
    "        Folderpath.append('')\n",
    "    num+=1\n",
    "    print(num)"
   ]
  },
  {
   "cell_type": "code",
   "execution_count": 9,
   "id": "8d7bb612",
   "metadata": {},
   "outputs": [],
   "source": [
    "df=pd.DataFrame()\n",
    "df['subject']=subject\n",
    "df['sender name']=sendername\n",
    "df['To']=To\n",
    "df['CC']=CC\n",
    "df['Categories']=Categories\n",
    "df['importance']=importance\n",
    "df['parent']=parent\n",
    "df['recievedtime']=recievedtime\n",
    "df['recievedtime']=df['recievedtime'].dt.tz_convert(None) # from stackoverflow\n",
    "df['Attachement']=Attachments\n",
    "df['Folderpath']=Folderpath\n",
    "df['body']=body"
   ]
  },
  {
   "cell_type": "code",
   "execution_count": 10,
   "id": "c57dfc5a",
   "metadata": {
    "scrolled": false
   },
   "outputs": [
    {
     "data": {
      "text/html": [
       "<div>\n",
       "<style scoped>\n",
       "    .dataframe tbody tr th:only-of-type {\n",
       "        vertical-align: middle;\n",
       "    }\n",
       "\n",
       "    .dataframe tbody tr th {\n",
       "        vertical-align: top;\n",
       "    }\n",
       "\n",
       "    .dataframe thead th {\n",
       "        text-align: right;\n",
       "    }\n",
       "</style>\n",
       "<table border=\"1\" class=\"dataframe\">\n",
       "  <thead>\n",
       "    <tr style=\"text-align: right;\">\n",
       "      <th></th>\n",
       "      <th>subject</th>\n",
       "      <th>sender name</th>\n",
       "      <th>To</th>\n",
       "      <th>CC</th>\n",
       "      <th>Categories</th>\n",
       "      <th>importance</th>\n",
       "      <th>parent</th>\n",
       "      <th>recievedtime</th>\n",
       "      <th>Attachement</th>\n",
       "      <th>Folderpath</th>\n",
       "      <th>body</th>\n",
       "    </tr>\n",
       "  </thead>\n",
       "  <tbody>\n",
       "    <tr>\n",
       "      <th>0</th>\n",
       "      <td>FW: U-04 N.G start up new permanent line (PFCP...</td>\n",
       "      <td>Ahmed Mohamed Sabri</td>\n",
       "      <td>Khaled Mamdouh El-Sayed</td>\n",
       "      <td>Mohamed Mesbah Mahmoud Amasha; Ahmed Mohamed S...</td>\n",
       "      <td>Due date</td>\n",
       "      <td>1</td>\n",
       "      <td>Inbox</td>\n",
       "      <td>2021-12-19 10:39:22.463</td>\n",
       "      <td>[U-04 N.G start up new permanent line (PFCP)1....</td>\n",
       "      <td>\\\\asabri@eprom-midor.com.eg\\Inbox</td>\n",
       "      <td>\\r\\n\\r\\n \\r\\n\\r\\nFrom: Ahmed Mohamed Sabri &lt;a...</td>\n",
       "    </tr>\n",
       "    <tr>\n",
       "      <th>1</th>\n",
       "      <td>Natural gas PFCP</td>\n",
       "      <td>Ahmed Mohamed Sabri</td>\n",
       "      <td>Khaled Mamdouh El-Sayed</td>\n",
       "      <td>Ahmed Mohamed Sabri; Amr Hassan Abu Mady; Moha...</td>\n",
       "      <td>Due date</td>\n",
       "      <td>1</td>\n",
       "      <td>Inbox</td>\n",
       "      <td>2021-12-19 10:44:20.884</td>\n",
       "      <td>[]</td>\n",
       "      <td>\\\\asabri@eprom-midor.com.eg\\Inbox</td>\n",
       "      <td>F:\\Area 02-A sharing\\memos &amp; reports\\PFCPs\\Tem...</td>\n",
       "    </tr>\n",
       "    <tr>\n",
       "      <th>2</th>\n",
       "      <td>FW: Space for catalyst and chemical storage</td>\n",
       "      <td>Sayed El Rawy</td>\n",
       "      <td>ali fawzy abdelwahed; doha adel morsi; Gaber m...</td>\n",
       "      <td>ahmed ali soliman; Ahmed Atef Mohamed; mohamed...</td>\n",
       "      <td>Follow up</td>\n",
       "      <td>1</td>\n",
       "      <td>Inbox</td>\n",
       "      <td>2022-01-09 11:11:32.841</td>\n",
       "      <td>[]</td>\n",
       "      <td>\\\\asabri@eprom-midor.com.eg\\Inbox</td>\n",
       "      <td>\\r\\n\\r\\n-----Original Message-----\\r\\nFrom: Mo...</td>\n",
       "    </tr>\n",
       "    <tr>\n",
       "      <th>3</th>\n",
       "      <td>database normalization</td>\n",
       "      <td>ahmed sabri</td>\n",
       "      <td>Ahmed Mohamed Sabri</td>\n",
       "      <td></td>\n",
       "      <td>work</td>\n",
       "      <td>1</td>\n",
       "      <td>Inbox</td>\n",
       "      <td>2022-02-04 15:49:29.834</td>\n",
       "      <td>[]</td>\n",
       "      <td>\\\\asabri@eprom-midor.com.eg\\Inbox</td>\n",
       "      <td>https://www.itprotoday.com/sql-server/sql-desi...</td>\n",
       "    </tr>\n",
       "    <tr>\n",
       "      <th>4</th>\n",
       "      <td>RE: Regenerator Monitoring Sheet</td>\n",
       "      <td>Ahmed Mohamed Sabri</td>\n",
       "      <td>Khaled Mamdouh El-Sayed</td>\n",
       "      <td>Amr Hassan Abu Mady; Mohamed Mesbah Mahmoud Am...</td>\n",
       "      <td>Due date</td>\n",
       "      <td>1</td>\n",
       "      <td>Inbox</td>\n",
       "      <td>2022-02-16 08:55:22.576</td>\n",
       "      <td>[]</td>\n",
       "      <td>\\\\asabri@eprom-midor.com.eg\\Inbox</td>\n",
       "      <td>Can you update and feed back ?\\r\\n\\r\\n \\r\\n\\r\\...</td>\n",
       "    </tr>\n",
       "  </tbody>\n",
       "</table>\n",
       "</div>"
      ],
      "text/plain": [
       "                                             subject          sender name  \\\n",
       "0  FW: U-04 N.G start up new permanent line (PFCP...  Ahmed Mohamed Sabri   \n",
       "1                                   Natural gas PFCP  Ahmed Mohamed Sabri   \n",
       "2       FW: Space for catalyst and chemical storage         Sayed El Rawy   \n",
       "3                             database normalization          ahmed sabri   \n",
       "4                  RE: Regenerator Monitoring Sheet   Ahmed Mohamed Sabri   \n",
       "\n",
       "                                                  To  \\\n",
       "0                            Khaled Mamdouh El-Sayed   \n",
       "1                            Khaled Mamdouh El-Sayed   \n",
       "2  ali fawzy abdelwahed; doha adel morsi; Gaber m...   \n",
       "3                                Ahmed Mohamed Sabri   \n",
       "4                            Khaled Mamdouh El-Sayed   \n",
       "\n",
       "                                                  CC Categories  importance  \\\n",
       "0  Mohamed Mesbah Mahmoud Amasha; Ahmed Mohamed S...   Due date           1   \n",
       "1  Ahmed Mohamed Sabri; Amr Hassan Abu Mady; Moha...   Due date           1   \n",
       "2  ahmed ali soliman; Ahmed Atef Mohamed; mohamed...  Follow up           1   \n",
       "3                                                          work           1   \n",
       "4  Amr Hassan Abu Mady; Mohamed Mesbah Mahmoud Am...   Due date           1   \n",
       "\n",
       "  parent            recievedtime  \\\n",
       "0  Inbox 2021-12-19 10:39:22.463   \n",
       "1  Inbox 2021-12-19 10:44:20.884   \n",
       "2  Inbox 2022-01-09 11:11:32.841   \n",
       "3  Inbox 2022-02-04 15:49:29.834   \n",
       "4  Inbox 2022-02-16 08:55:22.576   \n",
       "\n",
       "                                         Attachement  \\\n",
       "0  [U-04 N.G start up new permanent line (PFCP)1....   \n",
       "1                                                 []   \n",
       "2                                                 []   \n",
       "3                                                 []   \n",
       "4                                                 []   \n",
       "\n",
       "                          Folderpath  \\\n",
       "0  \\\\asabri@eprom-midor.com.eg\\Inbox   \n",
       "1  \\\\asabri@eprom-midor.com.eg\\Inbox   \n",
       "2  \\\\asabri@eprom-midor.com.eg\\Inbox   \n",
       "3  \\\\asabri@eprom-midor.com.eg\\Inbox   \n",
       "4  \\\\asabri@eprom-midor.com.eg\\Inbox   \n",
       "\n",
       "                                                body  \n",
       "0   \\r\\n\\r\\n \\r\\n\\r\\nFrom: Ahmed Mohamed Sabri <a...  \n",
       "1  F:\\Area 02-A sharing\\memos & reports\\PFCPs\\Tem...  \n",
       "2  \\r\\n\\r\\n-----Original Message-----\\r\\nFrom: Mo...  \n",
       "3  https://www.itprotoday.com/sql-server/sql-desi...  \n",
       "4  Can you update and feed back ?\\r\\n\\r\\n \\r\\n\\r\\...  "
      ]
     },
     "execution_count": 10,
     "metadata": {},
     "output_type": "execute_result"
    }
   ],
   "source": [
    "df.head(5)"
   ]
  },
  {
   "cell_type": "code",
   "execution_count": 11,
   "id": "40d9d3d4",
   "metadata": {
    "scrolled": false
   },
   "outputs": [],
   "source": [
    "df.to_excel('inbox_data.xlsx',index=False)"
   ]
  },
  {
   "cell_type": "code",
   "execution_count": null,
   "id": "8804bb67",
   "metadata": {},
   "outputs": [],
   "source": []
  },
  {
   "cell_type": "code",
   "execution_count": null,
   "id": "d9c29e2d",
   "metadata": {},
   "outputs": [],
   "source": []
  },
  {
   "cell_type": "code",
   "execution_count": null,
   "id": "59ff076f",
   "metadata": {},
   "outputs": [],
   "source": []
  },
  {
   "cell_type": "code",
   "execution_count": null,
   "id": "367ed76f",
   "metadata": {},
   "outputs": [],
   "source": []
  }
 ],
 "metadata": {
  "kernelspec": {
   "display_name": "Python 3.9.7 ('base')",
   "language": "python",
   "name": "python3"
  },
  "language_info": {
   "codemirror_mode": {
    "name": "ipython",
    "version": 3
   },
   "file_extension": ".py",
   "mimetype": "text/x-python",
   "name": "python",
   "nbconvert_exporter": "python",
   "pygments_lexer": "ipython3",
   "version": "3.9.7"
  },
  "vscode": {
   "interpreter": {
    "hash": "2b96e91ebc366910dc4fc8036892dd9ac04303450ddf5c3e8591107d5760fec5"
   }
  }
 },
 "nbformat": 4,
 "nbformat_minor": 5
}
