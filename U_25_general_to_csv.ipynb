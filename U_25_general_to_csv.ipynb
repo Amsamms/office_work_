{
 "cells": [
  {
   "cell_type": "code",
   "execution_count": null,
   "id": "892bafca",
   "metadata": {},
   "outputs": [],
   "source": [
    "import numpy as np\n",
    "import pandas as pd\n",
    "import scipy.stats as stats\n",
    "import os\n",
    "import re\n",
    "import matplotlib.pyplot as plt\n",
    "import seaborn as sns\n",
    "from datetime import datetime\n",
    "from dateutil import rrule\n",
    "import ahmedsabri\n",
    "from ahmedsabri import *\n",
    "%matplotlib inline"
   ]
  },
  {
   "cell_type": "code",
   "execution_count": null,
   "id": "b5b70b0a",
   "metadata": {},
   "outputs": [],
   "source": [
    "start_date = datetime(2022, 1, 1) # year,month,day\n",
    "end_date = datetime(2023, 2, 25) # year, month, day"
   ]
  },
  {
   "cell_type": "code",
   "execution_count": null,
   "id": "751aad46",
   "metadata": {},
   "outputs": [],
   "source": [
    "def prepare(data):\n",
    "    df=data.copy()\n",
    "    df=df.transpose()\n",
    "    df.columns=df.iloc[0:3].fillna('').astype(str).apply(' '.join).str.strip()\n",
    "    df=df.iloc[3:]\n",
    "    #df.columns=df.columns.str.replace(\" \",\"_\")\n",
    "    #df.columns=df.columns.str.lower()\n",
    "    #df.columns=df.columns.str.replace(\"-\",\"_\")\n",
    "    df.reset_index(drop=True, inplace=True)\n",
    "    #df.dropna(how=\"any\", thresh=df.shape[0]*0.99,inplace=True)\n",
    "    #df.dropna(axis=\"columns\", how=\"any\", thresh=df.shape[0]*0.99, inplace=True)\n",
    "    #df=df.replace('No Data',np.nan)\n",
    "    #df=df.replace('No Lab Data',np.nan)\n",
    "    #df=df.replace('NaT',np.nan)\n",
    "    #df=df.replace('-',np.nan)\n",
    "    df=df.replace('Nil',0)\n",
    "    return df"
   ]
  },
  {
   "cell_type": "code",
   "execution_count": null,
   "id": "5f4c5497",
   "metadata": {},
   "outputs": [],
   "source": [
    "def lab_assurance(df):\n",
    "    for i in range (1,df.shape[0]):\n",
    "        if type(df.iloc[i,0])!=str:\n",
    "            df.iloc[i,0]=df.iloc[i-1,0]\n",
    "    #df.dropna(axis=0,how='any',thresh=6,inplace=True)\n",
    "    #df.reset_index(inplace=True,drop=True)"
   ]
  },
  {
   "cell_type": "code",
   "execution_count": null,
   "id": "9d2e7b07",
   "metadata": {
    "scrolled": false
   },
   "outputs": [],
   "source": [
    "# making dictionary which keys is month_year and values are the dataframes\n",
    "df_macro_dict={}\n",
    "df_lab_dict={}\n",
    "df_calcs_dict={}\n",
    "for dt in rrule.rrule(rrule.MONTHLY, dtstart=start_date, until=end_date):\n",
    "    os.chdir(os.path.join(r'\\\\192.168.21.16\\Area 02A sharing\\Spread Sheets',str(dt.year)))\n",
    "    datetime_object = datetime.strptime(str(dt.month), \"%m\")\n",
    "    month = datetime_object.strftime(\"%b\")\n",
    "    year=str(dt.year)[-2:]\n",
    "    sheet_name='Unit 25 SS' +' '+ month.capitalize() +' '+ year+' '+'.xlsm'\n",
    "    #df='df'+'_'+str(dt.month)+'_'+str(dt.year)[-2:]\n",
    "    df_macro_dict[month+'_'+year]=pd.read_excel(sheet_name ,header = None,sheet_name='Macro',usecols=\"a:aj\",nrows=121)\n",
    "    df_lab_dict[month+'_'+year]=pd.read_excel(sheet_name,header = None,sheet_name=\"Lab data input\",usecols=\"a:aj\",nrows=320)\n",
    "    df_calcs_dict[month+'_'+year]=pd.read_excel(sheet_name,header = None,sheet_name=\"Calculations\",usecols=\"a:ag\",nrows=32)"
   ]
  },
  {
   "cell_type": "markdown",
   "id": "296ab1ca",
   "metadata": {},
   "source": [
    "## prepare macro and concacenate it"
   ]
  },
  {
   "cell_type": "code",
   "execution_count": null,
   "id": "74aea45c",
   "metadata": {},
   "outputs": [],
   "source": [
    "for key in df_macro_dict.keys():\n",
    "    df_macro_dict[key]=prepare(df_macro_dict[key])\n",
    "    if df_macro_dict[key].columns.duplicated().sum()>0:\n",
    "        df_macro_dict[key] = df_macro_dict[key].loc[:,~df_macro_dict[key].columns.duplicated()].copy()\n",
    "    df_macro_dict[key]['Description Units Tag No.']=pd.to_datetime(df_macro_dict[key]['Description Units Tag No.'],errors='coerce')\n",
    "    df_macro_dict[key].dropna(subset=['Description Units Tag No.'],inplace=True)\n",
    "    df_macro_dict[key].set_index('Description Units Tag No.',inplace=True)"
   ]
  },
  {
   "cell_type": "code",
   "execution_count": null,
   "id": "02342dc6",
   "metadata": {},
   "outputs": [],
   "source": [
    "df_macro=pd.concat(df_macro_dict.values(),axis=0)"
   ]
  },
  {
   "cell_type": "markdown",
   "id": "97692239",
   "metadata": {},
   "source": [
    "## preparing Lab and concacenate it"
   ]
  },
  {
   "cell_type": "code",
   "execution_count": null,
   "id": "2f9b9983",
   "metadata": {},
   "outputs": [],
   "source": [
    "for key in df_lab_dict.keys():\n",
    "    try:\n",
    "        lab_assurance(df_lab_dict[key])\n",
    "    except:\n",
    "        continue"
   ]
  },
  {
   "cell_type": "code",
   "execution_count": null,
   "id": "917d4292",
   "metadata": {},
   "outputs": [],
   "source": [
    "for key in df_lab_dict.keys():\n",
    "    df_lab_dict[key]=prepare(df_lab_dict[key])\n",
    "    if df_lab_dict[key].columns.duplicated().sum()>0:\n",
    "        df_lab_dict[key] = df_lab_dict[key].loc[:,~df_lab_dict[key].columns.duplicated()].copy()\n",
    "    df_lab_dict[key]['Sample Test Method']=pd.to_datetime( df_lab_dict[key]['Sample Test Method'],errors='coerce')\n",
    "    df_lab_dict[key].dropna(subset=['Sample Test Method'],inplace=True)\n",
    "    df_lab_dict[key].set_index('Sample Test Method',inplace=True)    "
   ]
  },
  {
   "cell_type": "code",
   "execution_count": null,
   "id": "1f99e333",
   "metadata": {},
   "outputs": [],
   "source": [
    "#https://www.geeksforgeeks.org/merge-two-dataframes-with-same-column-names/\n",
    "df_lab=pd.concat(df_lab_dict.values(),axis=0)"
   ]
  },
  {
   "cell_type": "code",
   "execution_count": null,
   "id": "cf3f23d6",
   "metadata": {},
   "outputs": [],
   "source": []
  },
  {
   "cell_type": "code",
   "execution_count": null,
   "id": "732e7927",
   "metadata": {},
   "outputs": [],
   "source": []
  },
  {
   "cell_type": "markdown",
   "id": "9fd9f6aa",
   "metadata": {},
   "source": [
    "# MERGING and saving to CSV"
   ]
  },
  {
   "cell_type": "code",
   "execution_count": null,
   "id": "885c141b",
   "metadata": {},
   "outputs": [],
   "source": [
    "df_macro.shape"
   ]
  },
  {
   "cell_type": "code",
   "execution_count": null,
   "id": "f1c14128",
   "metadata": {},
   "outputs": [],
   "source": [
    "df_lab.shape"
   ]
  },
  {
   "cell_type": "code",
   "execution_count": null,
   "id": "4c3b7a73",
   "metadata": {},
   "outputs": [],
   "source": [
    "df_macro = df_macro[~df_macro.index.duplicated(keep=\"first\")]"
   ]
  },
  {
   "cell_type": "code",
   "execution_count": null,
   "id": "84bc8c3e",
   "metadata": {},
   "outputs": [],
   "source": [
    "df_lab = df_lab[~df_lab.index.duplicated(keep=\"first\")]"
   ]
  },
  {
   "cell_type": "code",
   "execution_count": null,
   "id": "468e916c",
   "metadata": {},
   "outputs": [],
   "source": [
    "df=pd.concat([df_macro, df_lab], axis=1)"
   ]
  },
  {
   "cell_type": "code",
   "execution_count": null,
   "id": "ae7bfdd1",
   "metadata": {},
   "outputs": [],
   "source": [
    "os.chdir(r'\\\\192.168.21.16\\Area 02A sharing\\Spread Sheets\\spread sheets database by python')"
   ]
  },
  {
   "cell_type": "code",
   "execution_count": null,
   "id": "2d09116e",
   "metadata": {},
   "outputs": [],
   "source": [
    "df.to_csv(f'U_25 spreadsheet{str(start_date).split()[0]}_to_{str(end_date).split()[0]}.csv')"
   ]
  },
  {
   "cell_type": "markdown",
   "id": "298df8ff",
   "metadata": {},
   "source": [
    "## Converting all data to numbers"
   ]
  },
  {
   "cell_type": "code",
   "execution_count": null,
   "id": "749af53c",
   "metadata": {},
   "outputs": [],
   "source": [
    "# to convert object only ( not dates or numbers)\n",
    "df[df.dtypes[df.dtypes=='object'].index].columns"
   ]
  },
  {
   "cell_type": "code",
   "execution_count": null,
   "id": "0f0c16b7",
   "metadata": {},
   "outputs": [],
   "source": [
    "df.shape"
   ]
  },
  {
   "cell_type": "code",
   "execution_count": null,
   "id": "602a399e",
   "metadata": {},
   "outputs": [],
   "source": [
    "df= df.loc[:,~df.columns.duplicated()]"
   ]
  },
  {
   "cell_type": "code",
   "execution_count": null,
   "id": "a53a6535",
   "metadata": {},
   "outputs": [],
   "source": [
    "df.shape"
   ]
  },
  {
   "cell_type": "code",
   "execution_count": null,
   "id": "b98e772a",
   "metadata": {},
   "outputs": [],
   "source": [
    "for column in df[df.dtypes[df.dtypes=='object'].index].columns:\n",
    "    df[column]=pd.to_numeric(df[column],errors='coerce')"
   ]
  },
  {
   "cell_type": "code",
   "execution_count": null,
   "id": "51ca4118",
   "metadata": {},
   "outputs": [],
   "source": []
  },
  {
   "cell_type": "code",
   "execution_count": null,
   "id": "1842aa9c",
   "metadata": {
    "scrolled": false
   },
   "outputs": [],
   "source": [
    "plotting(df)"
   ]
  },
  {
   "cell_type": "code",
   "execution_count": null,
   "id": "f80b8a38",
   "metadata": {},
   "outputs": [],
   "source": []
  },
  {
   "cell_type": "code",
   "execution_count": null,
   "id": "0fbb9111",
   "metadata": {},
   "outputs": [],
   "source": []
  },
  {
   "cell_type": "code",
   "execution_count": null,
   "id": "ed474ff7",
   "metadata": {},
   "outputs": [],
   "source": [
    "#df.to_csv('orange_data.csv')"
   ]
  },
  {
   "cell_type": "code",
   "execution_count": null,
   "id": "705ce2ca",
   "metadata": {},
   "outputs": [],
   "source": [
    "os.getcwd()"
   ]
  }
 ],
 "metadata": {
  "kernelspec": {
   "display_name": "Python 3 (ipykernel)",
   "language": "python",
   "name": "python3"
  },
  "language_info": {
   "codemirror_mode": {
    "name": "ipython",
    "version": 3
   },
   "file_extension": ".py",
   "mimetype": "text/x-python",
   "name": "python",
   "nbconvert_exporter": "python",
   "pygments_lexer": "ipython3",
   "version": "3.9.7"
  }
 },
 "nbformat": 4,
 "nbformat_minor": 5
}
