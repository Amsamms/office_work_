{
 "cells": [
  {
   "cell_type": "code",
   "execution_count": 132,
   "id": "aa99290b",
   "metadata": {},
   "outputs": [],
   "source": [
    "import pandas as pd\n",
    "import numpy as np\n",
    "import os"
   ]
  },
  {
   "cell_type": "code",
   "execution_count": 133,
   "id": "64e5fec8",
   "metadata": {},
   "outputs": [
    {
     "data": {
      "text/plain": [
       "['.ipynb_checkpoints',\n",
       " '2022 All lab results.xlsm',\n",
       " 'Amr_lab.ipynb',\n",
       " 'EOY.csv',\n",
       " 'Lub.   Oil.csv',\n",
       " 'Nitrogen    Inlet.csv',\n",
       " 'RW Quality.csv',\n",
       " 'Sour water  B.L.csv',\n",
       " 'Spec.     HC.csv',\n",
       " 'Spec.    water.csv',\n",
       " 'Tempered    Water.csv',\n",
       " 'Trace M.csv',\n",
       " 'U-01  Vac.csv',\n",
       " 'U-01 Atm..csv',\n",
       " 'U-05 Penex.csv',\n",
       " 'U-06 Kero Mer.csv',\n",
       " 'U-07.csv',\n",
       " 'U-08 HC (I).csv',\n",
       " 'U-08 HC (II).csv',\n",
       " 'U-09 H2.csv',\n",
       " 'U-11 DC..csv',\n",
       " 'U-12,39.csv',\n",
       " 'U-13.csv',\n",
       " 'U-14,15.csv',\n",
       " 'U-2,3,4(I).csv',\n",
       " 'U-2,3,4(II).csv',\n",
       " 'U-25  NEW LPG.csv',\n",
       " 'U-31-    Utilities III.csv',\n",
       " 'U-31-  Utilities III.csv',\n",
       " 'U-31.36 Utilities-I.csv',\n",
       " 'U-31.36 Utility-I.csv',\n",
       " 'U-37.38 Utilities-II.csv',\n",
       " 'U-37.38 Utility-II.csv',\n",
       " 'U-51 Crude,LPG.csv',\n",
       " 'U-51 Gasoline.csv',\n",
       " 'U-51 Jet.Diesel.csv',\n",
       " 'U-54 WWTU.csv']"
      ]
     },
     "execution_count": 133,
     "metadata": {},
     "output_type": "execute_result"
    }
   ],
   "source": [
    "os.listdir()"
   ]
  },
  {
   "cell_type": "code",
   "execution_count": 102,
   "id": "2fb86d7c",
   "metadata": {},
   "outputs": [],
   "source": [
    "df=pd.read_excel('2022 All lab results.xlsm',sheet_name=1)"
   ]
  },
  {
   "cell_type": "code",
   "execution_count": 103,
   "id": "ab916774",
   "metadata": {},
   "outputs": [
    {
     "data": {
      "text/html": [
       "<div>\n",
       "<style scoped>\n",
       "    .dataframe tbody tr th:only-of-type {\n",
       "        vertical-align: middle;\n",
       "    }\n",
       "\n",
       "    .dataframe tbody tr th {\n",
       "        vertical-align: top;\n",
       "    }\n",
       "\n",
       "    .dataframe thead th {\n",
       "        text-align: right;\n",
       "    }\n",
       "</style>\n",
       "<table border=\"1\" class=\"dataframe\">\n",
       "  <thead>\n",
       "    <tr style=\"text-align: right;\">\n",
       "      <th></th>\n",
       "      <th>File</th>\n",
       "      <th>Sheet</th>\n",
       "      <th>Descreption</th>\n",
       "      <th>Test</th>\n",
       "      <th>Time</th>\n",
       "      <th>Value</th>\n",
       "    </tr>\n",
       "  </thead>\n",
       "  <tbody>\n",
       "    <tr>\n",
       "      <th>0</th>\n",
       "      <td>01.01.2022.xlsx</td>\n",
       "      <td>U-01 Atm.</td>\n",
       "      <td>Crude     From   Storage 01-SC-02 ST1</td>\n",
       "      <td>Density at 15ºC ASTM D4052/D2598 kg/m3</td>\n",
       "      <td>10:00:00</td>\n",
       "      <td>843.9</td>\n",
       "    </tr>\n",
       "    <tr>\n",
       "      <th>1</th>\n",
       "      <td>31.12.2022 Special.xls</td>\n",
       "      <td>EOY</td>\n",
       "      <td>TK-41</td>\n",
       "      <td>Density 15 °C ASTM D4052 kg/m³</td>\n",
       "      <td>30.12.2022</td>\n",
       "      <td>907.8</td>\n",
       "    </tr>\n",
       "    <tr>\n",
       "      <th>2</th>\n",
       "      <td>01.01.2022.xlsx</td>\n",
       "      <td>U-01 Atm.</td>\n",
       "      <td>Crude     From   Storage 01-SC-02 ST1</td>\n",
       "      <td>Salt content ASTM D3230 PTB</td>\n",
       "      <td>10:00:00</td>\n",
       "      <td>17</td>\n",
       "    </tr>\n",
       "    <tr>\n",
       "      <th>3</th>\n",
       "      <td>01.01.2022.xlsx</td>\n",
       "      <td>U-01 Atm.</td>\n",
       "      <td>Crude     From   Storage 01-SC-02 ST1</td>\n",
       "      <td>Sulfur ASTM D 4294 % mass</td>\n",
       "      <td>10:00:00</td>\n",
       "      <td>1.54</td>\n",
       "    </tr>\n",
       "    <tr>\n",
       "      <th>4</th>\n",
       "      <td>01.01.2022.xlsx</td>\n",
       "      <td>U-01 Atm.</td>\n",
       "      <td>Crude     From   Storage 01-SC-02 ST1</td>\n",
       "      <td>API° Gravity ASTM D 287</td>\n",
       "      <td>10:00:00</td>\n",
       "      <td>36.07</td>\n",
       "    </tr>\n",
       "  </tbody>\n",
       "</table>\n",
       "</div>"
      ],
      "text/plain": [
       "                     File                            Sheet  \\\n",
       "0         01.01.2022.xlsx                      U-01 Atm.     \n",
       "1  31.12.2022 Special.xls                EOY                 \n",
       "2         01.01.2022.xlsx                      U-01 Atm.     \n",
       "3         01.01.2022.xlsx                      U-01 Atm.     \n",
       "4         01.01.2022.xlsx                      U-01 Atm.     \n",
       "\n",
       "                             Descreption  \\\n",
       "0  Crude     From   Storage 01-SC-02 ST1   \n",
       "1                                  TK-41   \n",
       "2  Crude     From   Storage 01-SC-02 ST1   \n",
       "3  Crude     From   Storage 01-SC-02 ST1   \n",
       "4  Crude     From   Storage 01-SC-02 ST1   \n",
       "\n",
       "                                     Test        Time  Value  \n",
       "0  Density at 15ºC ASTM D4052/D2598 kg/m3    10:00:00  843.9  \n",
       "1          Density 15 °C ASTM D4052 kg/m³  30.12.2022  907.8  \n",
       "2             Salt content ASTM D3230 PTB    10:00:00     17  \n",
       "3               Sulfur ASTM D 4294 % mass    10:00:00   1.54  \n",
       "4                 API° Gravity ASTM D 287    10:00:00  36.07  "
      ]
     },
     "execution_count": 103,
     "metadata": {},
     "output_type": "execute_result"
    }
   ],
   "source": [
    "df.head()"
   ]
  },
  {
   "cell_type": "code",
   "execution_count": 104,
   "id": "bfbe7dbe",
   "metadata": {},
   "outputs": [],
   "source": [
    "# remove any value that is not a number\n",
    "df.dropna(subset=['Value'], inplace=True)"
   ]
  },
  {
   "cell_type": "code",
   "execution_count": 105,
   "id": "d37f30b1",
   "metadata": {},
   "outputs": [
    {
     "name": "stderr",
     "output_type": "stream",
     "text": [
      "C:\\Users\\asabri\\AppData\\Local\\Temp/ipykernel_12540/579525308.py:5: FutureWarning: The default value of regex will change from True to False in a future version. In addition, single character regular expressions will *not* be treated as literal strings when regex=True.\n",
      "  df['Date'] = df['Date'].str.replace('.', '/')\n"
     ]
    }
   ],
   "source": [
    "# Extract the date using regular expressions and str.extract\n",
    "df['Date'] = df['File'].str.extract(r'(\\d{2}\\.\\d{2}\\.\\d{4})')\n",
    "\n",
    "# Replace dots with slashes to get the desired format\n",
    "df['Date'] = df['Date'].str.replace('.', '/')\n",
    "\n",
    "# Convert the Date column to datetime format\n",
    "df['Date'] = pd.to_datetime(df['Date'], format='%d/%m/%Y')"
   ]
  },
  {
   "cell_type": "code",
   "execution_count": 106,
   "id": "e20ca6ca",
   "metadata": {},
   "outputs": [],
   "source": [
    "columns=df.columns.tolist()"
   ]
  },
  {
   "cell_type": "code",
   "execution_count": 107,
   "id": "7caa8957",
   "metadata": {},
   "outputs": [],
   "source": [
    "df=df[['Date']+columns[0:-1]]"
   ]
  },
  {
   "cell_type": "code",
   "execution_count": 108,
   "id": "ccac69cd",
   "metadata": {},
   "outputs": [],
   "source": [
    "# Convert the Time column to datetime format\n",
    "df['Time_converted'] = pd.to_datetime(df['Time'], format='%H:%M:%S',errors='coerce').dt.time"
   ]
  },
  {
   "cell_type": "code",
   "execution_count": 109,
   "id": "c99145dc",
   "metadata": {},
   "outputs": [
    {
     "name": "stderr",
     "output_type": "stream",
     "text": [
      "C:\\Users\\asabri\\AppData\\Local\\Temp/ipykernel_12540/31699144.py:2: FutureWarning: The pandas.datetime class is deprecated and will be removed from pandas in a future version. Import from datetime module instead.\n",
      "  df['Timestamp'] = df.apply(lambda x: pd.datetime.combine(x['Date'], x['Time_converted']) if pd.notna(x['Time_converted']) else pd.NaT, axis=1)\n"
     ]
    }
   ],
   "source": [
    "# combine Date and time\n",
    "df['Timestamp'] = df.apply(lambda x: pd.datetime.combine(x['Date'], x['Time_converted']) if pd.notna(x['Time_converted']) else pd.NaT, axis=1)"
   ]
  },
  {
   "cell_type": "code",
   "execution_count": 110,
   "id": "2c47640f",
   "metadata": {},
   "outputs": [
    {
     "data": {
      "text/html": [
       "<div>\n",
       "<style scoped>\n",
       "    .dataframe tbody tr th:only-of-type {\n",
       "        vertical-align: middle;\n",
       "    }\n",
       "\n",
       "    .dataframe tbody tr th {\n",
       "        vertical-align: top;\n",
       "    }\n",
       "\n",
       "    .dataframe thead th {\n",
       "        text-align: right;\n",
       "    }\n",
       "</style>\n",
       "<table border=\"1\" class=\"dataframe\">\n",
       "  <thead>\n",
       "    <tr style=\"text-align: right;\">\n",
       "      <th></th>\n",
       "      <th>Timestamp</th>\n",
       "      <th>File</th>\n",
       "      <th>Time</th>\n",
       "    </tr>\n",
       "  </thead>\n",
       "  <tbody>\n",
       "    <tr>\n",
       "      <th>734605</th>\n",
       "      <td>2022-08-27 10:00:00</td>\n",
       "      <td>27.08.2022.xlsx</td>\n",
       "      <td>10:00:00</td>\n",
       "    </tr>\n",
       "    <tr>\n",
       "      <th>991001</th>\n",
       "      <td>2022-11-15 06:00:00</td>\n",
       "      <td>15.11.2022.xlsx</td>\n",
       "      <td>06:00:00</td>\n",
       "    </tr>\n",
       "    <tr>\n",
       "      <th>194871</th>\n",
       "      <td>2022-03-04 10:00:00</td>\n",
       "      <td>04.03.2022.xlsx</td>\n",
       "      <td>10:00:00</td>\n",
       "    </tr>\n",
       "    <tr>\n",
       "      <th>637754</th>\n",
       "      <td>2022-07-28 06:00:00</td>\n",
       "      <td>28.07.2022.xlsx</td>\n",
       "      <td>06:00:00</td>\n",
       "    </tr>\n",
       "    <tr>\n",
       "      <th>517990</th>\n",
       "      <td>NaT</td>\n",
       "      <td>16.06.2022.xlsx</td>\n",
       "      <td>NaN</td>\n",
       "    </tr>\n",
       "  </tbody>\n",
       "</table>\n",
       "</div>"
      ],
      "text/plain": [
       "                 Timestamp             File      Time\n",
       "734605 2022-08-27 10:00:00  27.08.2022.xlsx  10:00:00\n",
       "991001 2022-11-15 06:00:00  15.11.2022.xlsx  06:00:00\n",
       "194871 2022-03-04 10:00:00  04.03.2022.xlsx  10:00:00\n",
       "637754 2022-07-28 06:00:00  28.07.2022.xlsx  06:00:00\n",
       "517990                 NaT  16.06.2022.xlsx       NaN"
      ]
     },
     "execution_count": 110,
     "metadata": {},
     "output_type": "execute_result"
    }
   ],
   "source": [
    "df[['Timestamp','File','Time']].sample(5)"
   ]
  },
  {
   "cell_type": "code",
   "execution_count": 111,
   "id": "35ba512c",
   "metadata": {},
   "outputs": [],
   "source": [
    "columns=df.columns.tolist()"
   ]
  },
  {
   "cell_type": "code",
   "execution_count": 112,
   "id": "d7346a04",
   "metadata": {},
   "outputs": [
    {
     "data": {
      "text/plain": [
       "['Date',\n",
       " 'File',\n",
       " 'Sheet',\n",
       " 'Descreption',\n",
       " 'Test',\n",
       " 'Time',\n",
       " 'Value',\n",
       " 'Time_converted',\n",
       " 'Timestamp']"
      ]
     },
     "execution_count": 112,
     "metadata": {},
     "output_type": "execute_result"
    }
   ],
   "source": [
    "columns"
   ]
  },
  {
   "cell_type": "code",
   "execution_count": 113,
   "id": "3c3dad29",
   "metadata": {},
   "outputs": [],
   "source": [
    "df=df[['Timestamp']+columns[1:-2]]"
   ]
  },
  {
   "cell_type": "code",
   "execution_count": 114,
   "id": "07cf23d8",
   "metadata": {},
   "outputs": [],
   "source": [
    "df['Sheet']=df['Sheet'].str.strip()"
   ]
  },
  {
   "cell_type": "code",
   "execution_count": 115,
   "id": "be823796",
   "metadata": {},
   "outputs": [],
   "source": [
    "df['Descreption']=df['Descreption'].str.strip()"
   ]
  },
  {
   "cell_type": "code",
   "execution_count": 116,
   "id": "7444be2d",
   "metadata": {},
   "outputs": [],
   "source": [
    "df['sc and test'] = df['Descreption'].astype(str)+'_'+df['Test'].astype(str)"
   ]
  },
  {
   "cell_type": "code",
   "execution_count": 117,
   "id": "990c5000",
   "metadata": {},
   "outputs": [],
   "source": [
    "df['sc and test'] = df['sc and test'].str.strip()\n",
    "df['sc and test'] = df['sc and test'].str.replace(' ', '_')\n",
    "df['sc and test'] = df['sc and test'].str.lower()"
   ]
  },
  {
   "cell_type": "code",
   "execution_count": 119,
   "id": "996379ca",
   "metadata": {},
   "outputs": [],
   "source": [
    "# Dropping al columns except Timestamp, sc_test and value\n",
    "df_final=df[['Timestamp','sc and test','Value']].copy()"
   ]
  },
  {
   "cell_type": "code",
   "execution_count": 134,
   "id": "2f624ad0",
   "metadata": {},
   "outputs": [
    {
     "data": {
      "text/html": [
       "<div>\n",
       "<style scoped>\n",
       "    .dataframe tbody tr th:only-of-type {\n",
       "        vertical-align: middle;\n",
       "    }\n",
       "\n",
       "    .dataframe tbody tr th {\n",
       "        vertical-align: top;\n",
       "    }\n",
       "\n",
       "    .dataframe thead th {\n",
       "        text-align: right;\n",
       "    }\n",
       "</style>\n",
       "<table border=\"1\" class=\"dataframe\">\n",
       "  <thead>\n",
       "    <tr style=\"text-align: right;\">\n",
       "      <th></th>\n",
       "      <th>Timestamp</th>\n",
       "      <th>sc and test</th>\n",
       "      <th>Value</th>\n",
       "    </tr>\n",
       "  </thead>\n",
       "  <tbody>\n",
       "    <tr>\n",
       "      <th>0</th>\n",
       "      <td>2022-01-01 10:00:00</td>\n",
       "      <td>crude_____from___storage_01-sc-02_st1density_a...</td>\n",
       "      <td>843.9</td>\n",
       "    </tr>\n",
       "    <tr>\n",
       "      <th>1</th>\n",
       "      <td>NaT</td>\n",
       "      <td>tk-41density_15_°c_astm_d4052_kg/m³</td>\n",
       "      <td>907.8</td>\n",
       "    </tr>\n",
       "    <tr>\n",
       "      <th>2</th>\n",
       "      <td>2022-01-01 10:00:00</td>\n",
       "      <td>crude_____from___storage_01-sc-02_st1salt_cont...</td>\n",
       "      <td>17</td>\n",
       "    </tr>\n",
       "    <tr>\n",
       "      <th>3</th>\n",
       "      <td>2022-01-01 10:00:00</td>\n",
       "      <td>crude_____from___storage_01-sc-02_st1sulfur_as...</td>\n",
       "      <td>1.54</td>\n",
       "    </tr>\n",
       "    <tr>\n",
       "      <th>4</th>\n",
       "      <td>2022-01-01 10:00:00</td>\n",
       "      <td>crude_____from___storage_01-sc-02_st1api°_grav...</td>\n",
       "      <td>36.07</td>\n",
       "    </tr>\n",
       "    <tr>\n",
       "      <th>...</th>\n",
       "      <td>...</td>\n",
       "      <td>...</td>\n",
       "      <td>...</td>\n",
       "    </tr>\n",
       "    <tr>\n",
       "      <th>1048570</th>\n",
       "      <td>2022-12-03 06:00:00</td>\n",
       "      <td>debutanizer________overhead_04-sc-08_st1nc4_as...</td>\n",
       "      <td>42.7</td>\n",
       "    </tr>\n",
       "    <tr>\n",
       "      <th>1048571</th>\n",
       "      <td>2022-12-03 06:00:00</td>\n",
       "      <td>debutanizer________overhead_04-sc-08_st1butene...</td>\n",
       "      <td>1.1</td>\n",
       "    </tr>\n",
       "    <tr>\n",
       "      <th>1048572</th>\n",
       "      <td>2022-12-03 06:00:00</td>\n",
       "      <td>debutanizer________overhead_04-sc-08_st1c5+_as...</td>\n",
       "      <td>2.3</td>\n",
       "    </tr>\n",
       "    <tr>\n",
       "      <th>1048573</th>\n",
       "      <td>2022-12-03 12:00:00</td>\n",
       "      <td>debutanizer________overhead_04-sc-08_st295_%_e...</td>\n",
       "      <td>3</td>\n",
       "    </tr>\n",
       "    <tr>\n",
       "      <th>1048574</th>\n",
       "      <td>2022-12-03 18:00:00</td>\n",
       "      <td>debutanizer________overhead_04-sc-08_st395_%_e...</td>\n",
       "      <td>3</td>\n",
       "    </tr>\n",
       "  </tbody>\n",
       "</table>\n",
       "<p>1046754 rows × 3 columns</p>\n",
       "</div>"
      ],
      "text/plain": [
       "                  Timestamp  \\\n",
       "0       2022-01-01 10:00:00   \n",
       "1                       NaT   \n",
       "2       2022-01-01 10:00:00   \n",
       "3       2022-01-01 10:00:00   \n",
       "4       2022-01-01 10:00:00   \n",
       "...                     ...   \n",
       "1048570 2022-12-03 06:00:00   \n",
       "1048571 2022-12-03 06:00:00   \n",
       "1048572 2022-12-03 06:00:00   \n",
       "1048573 2022-12-03 12:00:00   \n",
       "1048574 2022-12-03 18:00:00   \n",
       "\n",
       "                                               sc and test  Value  \n",
       "0        crude_____from___storage_01-sc-02_st1density_a...  843.9  \n",
       "1                      tk-41density_15_°c_astm_d4052_kg/m³  907.8  \n",
       "2        crude_____from___storage_01-sc-02_st1salt_cont...     17  \n",
       "3        crude_____from___storage_01-sc-02_st1sulfur_as...   1.54  \n",
       "4        crude_____from___storage_01-sc-02_st1api°_grav...  36.07  \n",
       "...                                                    ...    ...  \n",
       "1048570  debutanizer________overhead_04-sc-08_st1nc4_as...   42.7  \n",
       "1048571  debutanizer________overhead_04-sc-08_st1butene...    1.1  \n",
       "1048572  debutanizer________overhead_04-sc-08_st1c5+_as...    2.3  \n",
       "1048573  debutanizer________overhead_04-sc-08_st295_%_e...      3  \n",
       "1048574  debutanizer________overhead_04-sc-08_st395_%_e...      3  \n",
       "\n",
       "[1046754 rows x 3 columns]"
      ]
     },
     "execution_count": 134,
     "metadata": {},
     "output_type": "execute_result"
    }
   ],
   "source": [
    "df_final"
   ]
  },
  {
   "cell_type": "code",
   "execution_count": 131,
   "id": "18987e55",
   "metadata": {},
   "outputs": [
    {
     "data": {
      "text/plain": [
       "18319"
      ]
     },
     "execution_count": 131,
     "metadata": {},
     "output_type": "execute_result"
    }
   ],
   "source": [
    "df['Value'].nunique()"
   ]
  },
  {
   "cell_type": "code",
   "execution_count": 56,
   "id": "c92e5599",
   "metadata": {},
   "outputs": [],
   "source": [
    "#df_pivot = df_final.pivot(index='Timestamp', columns='sc and test', values='Value')"
   ]
  },
  {
   "cell_type": "code",
   "execution_count": 55,
   "id": "5d111db4",
   "metadata": {},
   "outputs": [],
   "source": [
    "#df_pivot = df.pivot_table(index='Timestamp', columns='sc and test', values='Value', aggfunc='mean')"
   ]
  },
  {
   "cell_type": "code",
   "execution_count": 73,
   "id": "3a6e73ae",
   "metadata": {},
   "outputs": [
    {
     "data": {
      "text/plain": [
       "0             Crude     From   Storage 01-SC-02 ST1\n",
       "1                                             TK-41\n",
       "2             Crude     From   Storage 01-SC-02 ST1\n",
       "3             Crude     From   Storage 01-SC-02 ST1\n",
       "4             Crude     From   Storage 01-SC-02 ST1\n",
       "                             ...                   \n",
       "1048570    Debutanizer        Overhead 04-SC-08 ST1\n",
       "1048571    Debutanizer        Overhead 04-SC-08 ST1\n",
       "1048572    Debutanizer        Overhead 04-SC-08 ST1\n",
       "1048573    Debutanizer        Overhead 04-SC-08 ST2\n",
       "1048574    Debutanizer        Overhead 04-SC-08 ST3\n",
       "Name: Descreption, Length: 530216, dtype: object"
      ]
     },
     "execution_count": 73,
     "metadata": {},
     "output_type": "execute_result"
    }
   ],
   "source": [
    "df['Descreption'].str.strip()"
   ]
  },
  {
   "cell_type": "code",
   "execution_count": null,
   "id": "46709a0c",
   "metadata": {},
   "outputs": [],
   "source": []
  },
  {
   "cell_type": "code",
   "execution_count": null,
   "id": "165563ef",
   "metadata": {},
   "outputs": [],
   "source": []
  },
  {
   "cell_type": "code",
   "execution_count": 171,
   "id": "bd9131bf",
   "metadata": {},
   "outputs": [],
   "source": [
    "df_final['Value']=pd.to_numeric(df_final['Value'],errors='coerce')"
   ]
  },
  {
   "cell_type": "code",
   "execution_count": 190,
   "id": "487a21f1",
   "metadata": {},
   "outputs": [],
   "source": [
    "df_final.dropna(subset=['Value'],inplace=True)"
   ]
  },
  {
   "cell_type": "code",
   "execution_count": 192,
   "id": "bc3afee1",
   "metadata": {},
   "outputs": [],
   "source": [
    "df_final.dropna(subset=['Timestamp'],inplace=True)"
   ]
  },
  {
   "cell_type": "code",
   "execution_count": 194,
   "id": "5fc99f7c",
   "metadata": {},
   "outputs": [],
   "source": [
    "df_last=df_final.pivot_table(index='Timestamp', columns='sc and test', values='Value')"
   ]
  },
  {
   "cell_type": "code",
   "execution_count": 204,
   "id": "b2934d23",
   "metadata": {},
   "outputs": [
    {
     "data": {
      "text/plain": [
       "5198"
      ]
     },
     "execution_count": 204,
     "metadata": {},
     "output_type": "execute_result"
    }
   ],
   "source": [
    "df_last[df_last.columns[16]].isnull().sum()"
   ]
  },
  {
   "cell_type": "code",
   "execution_count": 74,
   "id": "7b269e5b",
   "metadata": {},
   "outputs": [],
   "source": [
    "# making dataframe, each for specefic lab sheet\n",
    "dff={}\n",
    "for unit in df['Sheet'].unique():\n",
    "    dff[f'{unit}']= df.loc[df['Sheet']==unit,:].copy()\n",
    "    dff[f'{unit}'].to_csv(f'{unit}.csv')"
   ]
  }
 ],
 "metadata": {
  "kernelspec": {
   "display_name": "Python 3 (ipykernel)",
   "language": "python",
   "name": "python3"
  },
  "language_info": {
   "codemirror_mode": {
    "name": "ipython",
    "version": 3
   },
   "file_extension": ".py",
   "mimetype": "text/x-python",
   "name": "python",
   "nbconvert_exporter": "python",
   "pygments_lexer": "ipython3",
   "version": "3.9.7"
  }
 },
 "nbformat": 4,
 "nbformat_minor": 5
}
