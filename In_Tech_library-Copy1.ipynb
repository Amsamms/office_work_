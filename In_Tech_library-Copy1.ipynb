{
 "cells": [
  {
   "cell_type": "code",
   "execution_count": 28,
   "id": "be6e1b07",
   "metadata": {},
   "outputs": [],
   "source": [
    "import os\n",
    "import re"
   ]
  },
  {
   "cell_type": "code",
   "execution_count": 29,
   "id": "47143f2a",
   "metadata": {},
   "outputs": [],
   "source": [
    "pattern_sample='\\d{1,2}[.]\\d{1,2}[.](2018|2019|2020|2021|2022)[.](xlsx|xls)'\n",
    "pattern='(.*DCS.*)(.pdf)'"
   ]
  },
  {
   "cell_type": "code",
   "execution_count": 30,
   "id": "7269f0aa",
   "metadata": {},
   "outputs": [],
   "source": [
    "path='\\\\\\\\eprom\\\\fs\\\\Technical Library'"
   ]
  },
  {
   "cell_type": "code",
   "execution_count": 31,
   "id": "4772508c",
   "metadata": {},
   "outputs": [
    {
     "name": "stdout",
     "output_type": "stream",
     "text": [
      "\\\\eprom\\fs\\Technical Library\\DCS honeywell\\CD 1\\Final AS Built Documentation - CR3 Ex\\VOL-02 Part-1ofXX\\EGP000022-102_125_DCS Marshalling R4-R1\\PDF\n",
      "\\\\eprom\\fs\\Technical Library\\DCS honeywell\\CD 1\\Final AS Built Documentation - CR3 Ex\\VOL-02 Part-1ofXX\\EGP000022-104_DCS Marshalling DB R3\n",
      "\\\\eprom\\fs\\Technical Library\\DCS honeywell\\CD 1\\Final AS Built Documentation - CR3 Ex\\VOL-04 Part-1ofXX\\2WLD DCS CR3 Expansion R2 PDF\n",
      "\\\\eprom\\fs\\Technical Library\\DCS honeywell\\CD 1\\Final AS Built Documentation - Main DCS\\VOL-01 Part-1ofXX\\181533-MID-051 Functional Design Specifications - DCS\\PDF\n",
      "\\\\eprom\\fs\\Technical Library\\DCS honeywell\\CD 1\\Final AS Built Documentation - Main DCS\\VOL-01 Part-1ofXX\\181533-MID-051 Functional Design Specifications - DCS\\PDF\n",
      "\\\\eprom\\fs\\Technical Library\\DCS honeywell\\CD 1\\Final AS Built Documentation - Main DCS\\VOL-02 Part-1ofXX\\181533-MID-101 DCS - Network Server Cabinet Drawing\\PDF\\CR-01-ET-02 R5\n",
      "\\\\eprom\\fs\\Technical Library\\DCS honeywell\\CD 1\\Final AS Built Documentation - Main DCS\\VOL-02 Part-1ofXX\\181533-MID-101 DCS - Network Server Cabinet Drawing\\PDF\\CR-01-ET-03 R4\n",
      "\\\\eprom\\fs\\Technical Library\\DCS honeywell\\CD 1\\Final AS Built Documentation - Main DCS\\VOL-02 Part-1ofXX\\181533-MID-101 DCS - Network Server Cabinet Drawing\\PDF\\CR-02-ETW-01 R7\n",
      "\\\\eprom\\fs\\Technical Library\\DCS honeywell\\CD 1\\Final AS Built Documentation - Main DCS\\VOL-02 Part-1ofXX\\181533-MID-101 DCS - Network Server Cabinet Drawing\\PDF\\CR-03-ETW-01 R8\n",
      "\\\\eprom\\fs\\Technical Library\\DCS honeywell\\CD 1\\Final AS Built Documentation - Main DCS\\VOL-02 Part-1ofXX\\181533-MID-101 DCS - Network Server Cabinet Drawing\\PDF\\CR-04-ETW-01 R7\n",
      "\\\\eprom\\fs\\Technical Library\\DCS honeywell\\CD 1\\Final AS Built Documentation - Main DCS\\VOL-02 Part-1ofXX\\181533-MID-101 DCS - Network Server Cabinet Drawing\\PDF\\CR-05-ETW-01 R7\n",
      "\\\\eprom\\fs\\Technical Library\\DCS honeywell\\CD 1\\Final AS Built Documentation - Main DCS\\VOL-02 Part-1ofXX\\181533-MID-101 DCS - Network Server Cabinet Drawing\\PDF\\CR-06-ETW-01 R8\n",
      "\\\\eprom\\fs\\Technical Library\\DCS honeywell\\CD 1\\Final AS Built Documentation - Main DCS\\VOL-02 Part-1ofXX\\181533-MID-101 DCS - Network Server Cabinet Drawing\\PDF\\CR-07-ETW-01 R7\n",
      "\\\\eprom\\fs\\Technical Library\\DCS honeywell\\CD 1\\Final AS Built Documentation - Main DCS\\VOL-02 Part-1ofXX\\181533-MID-101 DCS - Network Server Cabinet Drawing\\PDF\\CR-08-ETW-01 R7\n",
      "\\\\eprom\\fs\\Technical Library\\DCS honeywell\\CD 1\\Final AS Built Documentation - Main DCS\\VOL-02 Part-2ofXX\\181533-MID-102 DCS - System Cabinet Drawing\\PDF\\CR-02 R5\n",
      "\\\\eprom\\fs\\Technical Library\\DCS honeywell\\CD 1\\Final AS Built Documentation - Main DCS\\VOL-02 Part-2ofXX\\181533-MID-102 DCS - System Cabinet Drawing\\PDF\\CR-03 R7\n",
      "\\\\eprom\\fs\\Technical Library\\DCS honeywell\\CD 1\\Final AS Built Documentation - Main DCS\\VOL-02 Part-2ofXX\\181533-MID-102 DCS - System Cabinet Drawing\\PDF\\CR-04 R6\n",
      "\\\\eprom\\fs\\Technical Library\\DCS honeywell\\CD 1\\Final AS Built Documentation - Main DCS\\VOL-02 Part-2ofXX\\181533-MID-102 DCS - System Cabinet Drawing\\PDF\\CR-05 R6\n",
      "\\\\eprom\\fs\\Technical Library\\DCS honeywell\\CD 1\\Final AS Built Documentation - Main DCS\\VOL-02 Part-2ofXX\\181533-MID-102 DCS - System Cabinet Drawing\\PDF\\CR-06 R6\n",
      "\\\\eprom\\fs\\Technical Library\\DCS honeywell\\CD 1\\Final AS Built Documentation - Main DCS\\VOL-02 Part-2ofXX\\181533-MID-102 DCS - System Cabinet Drawing\\PDF\\CR-07 R5\n",
      "\\\\eprom\\fs\\Technical Library\\DCS honeywell\\CD 1\\Final AS Built Documentation - Main DCS\\VOL-02 Part-2ofXX\\181533-MID-102 DCS - System Cabinet Drawing\\PDF\\CR-08 R6\n",
      "\\\\eprom\\fs\\Technical Library\\DCS honeywell\\CD 1\\Final AS Built Documentation - Main DCS\\VOL-02 Part-2ofXX\\181533-MID-102 DCS - System Cabinet Drawing\\PDF\\CR-09 R5\n",
      "\\\\eprom\\fs\\Technical Library\\DCS honeywell\\CD 1\\Final AS Built Documentation - Main DCS\\VOL-03 Part-1ofXX\\PDF 181533-MID-104 P&H\n",
      "\\\\eprom\\fs\\Technical Library\\DCS honeywell\\CD 1\\Final AS Built Documentation - Main DCS\\VOL-03 Part-1ofXX\\PDF 181533-MID-105 BOM\n",
      "\\\\eprom\\fs\\Technical Library\\DCS honeywell\\CD 1\\Final AS Built Documentation - Main DCS\\VOL-04 Part-1ofXX\\PDF 181533-MID-201 DCS Console DWG Rev 7\n",
      "\\\\eprom\\fs\\Technical Library\\DCS honeywell\\CD 1\\Final AS Built Documentation - Main DCS\\VOL-05\\181533-MID-402 DCS Control Scheme & Logic\n",
      "\\\\eprom\\fs\\Technical Library\\DCS honeywell\\CD 1\\Final AS Built Documentation - Main DCS\\VOL-05 Part-1ofXX\\181533-MID-401 DCS IO Database\\PDF\n",
      "\\\\eprom\\fs\\Technical Library\\DCS honeywell\\CD 2\\Final AS Built Documentation - CR3 Ex\\VOL-02 Part-1ofXX\\EGP000022-102_125_DCS Marshalling R4-R1\\PDF\n",
      "\\\\eprom\\fs\\Technical Library\\DCS honeywell\\CD 2\\Final AS Built Documentation - CR3 Ex\\VOL-02 Part-1ofXX\\EGP000022-104_DCS Marshalling DB R3\n",
      "\\\\eprom\\fs\\Technical Library\\DCS honeywell\\CD 2\\Final AS Built Documentation - CR3 Ex\\VOL-04 Part-1ofXX\\2WLD DCS CR3 Expansion R2 PDF\n",
      "\\\\eprom\\fs\\Technical Library\\DCS honeywell\\CD 2\\Final AS Built Documentation - Main DCS\\VOL-01 Part-1ofXX\\181533-MID-051 Functional Design Specifications - DCS\\PDF\n",
      "\\\\eprom\\fs\\Technical Library\\DCS honeywell\\CD 2\\Final AS Built Documentation - Main DCS\\VOL-01 Part-1ofXX\\181533-MID-051 Functional Design Specifications - DCS\\PDF\n",
      "\\\\eprom\\fs\\Technical Library\\DCS honeywell\\CD 2\\Final AS Built Documentation - Main DCS\\VOL-02 Part-1ofXX\\181533-MID-101 DCS - Network Server Cabinet Drawing\\PDF\\CR-01-ET-02 R5\n",
      "\\\\eprom\\fs\\Technical Library\\DCS honeywell\\CD 2\\Final AS Built Documentation - Main DCS\\VOL-02 Part-1ofXX\\181533-MID-101 DCS - Network Server Cabinet Drawing\\PDF\\CR-01-ET-03 R4\n",
      "\\\\eprom\\fs\\Technical Library\\DCS honeywell\\CD 2\\Final AS Built Documentation - Main DCS\\VOL-02 Part-1ofXX\\181533-MID-101 DCS - Network Server Cabinet Drawing\\PDF\\CR-02-ETW-01 R7\n",
      "\\\\eprom\\fs\\Technical Library\\DCS honeywell\\CD 2\\Final AS Built Documentation - Main DCS\\VOL-02 Part-1ofXX\\181533-MID-101 DCS - Network Server Cabinet Drawing\\PDF\\CR-03-ETW-01 R8\n",
      "\\\\eprom\\fs\\Technical Library\\DCS honeywell\\CD 2\\Final AS Built Documentation - Main DCS\\VOL-02 Part-1ofXX\\181533-MID-101 DCS - Network Server Cabinet Drawing\\PDF\\CR-04-ETW-01 R7\n",
      "\\\\eprom\\fs\\Technical Library\\DCS honeywell\\CD 2\\Final AS Built Documentation - Main DCS\\VOL-02 Part-1ofXX\\181533-MID-101 DCS - Network Server Cabinet Drawing\\PDF\\CR-05-ETW-01 R7\n",
      "\\\\eprom\\fs\\Technical Library\\DCS honeywell\\CD 2\\Final AS Built Documentation - Main DCS\\VOL-02 Part-1ofXX\\181533-MID-101 DCS - Network Server Cabinet Drawing\\PDF\\CR-06-ETW-01 R8\n",
      "\\\\eprom\\fs\\Technical Library\\DCS honeywell\\CD 2\\Final AS Built Documentation - Main DCS\\VOL-02 Part-1ofXX\\181533-MID-101 DCS - Network Server Cabinet Drawing\\PDF\\CR-07-ETW-01 R7\n",
      "\\\\eprom\\fs\\Technical Library\\DCS honeywell\\CD 2\\Final AS Built Documentation - Main DCS\\VOL-02 Part-1ofXX\\181533-MID-101 DCS - Network Server Cabinet Drawing\\PDF\\CR-08-ETW-01 R7\n",
      "\\\\eprom\\fs\\Technical Library\\DCS honeywell\\CD 2\\Final AS Built Documentation - Main DCS\\VOL-02 Part-2ofXX\\181533-MID-102 DCS - System Cabinet Drawing\\PDF\\CR-02 R5\n",
      "\\\\eprom\\fs\\Technical Library\\DCS honeywell\\CD 2\\Final AS Built Documentation - Main DCS\\VOL-02 Part-2ofXX\\181533-MID-102 DCS - System Cabinet Drawing\\PDF\\CR-03 R7\n",
      "\\\\eprom\\fs\\Technical Library\\DCS honeywell\\CD 2\\Final AS Built Documentation - Main DCS\\VOL-02 Part-2ofXX\\181533-MID-102 DCS - System Cabinet Drawing\\PDF\\CR-04 R6\n",
      "\\\\eprom\\fs\\Technical Library\\DCS honeywell\\CD 2\\Final AS Built Documentation - Main DCS\\VOL-02 Part-2ofXX\\181533-MID-102 DCS - System Cabinet Drawing\\PDF\\CR-05 R6\n",
      "\\\\eprom\\fs\\Technical Library\\DCS honeywell\\CD 2\\Final AS Built Documentation - Main DCS\\VOL-02 Part-2ofXX\\181533-MID-102 DCS - System Cabinet Drawing\\PDF\\CR-06 R6\n",
      "\\\\eprom\\fs\\Technical Library\\DCS honeywell\\CD 2\\Final AS Built Documentation - Main DCS\\VOL-02 Part-2ofXX\\181533-MID-102 DCS - System Cabinet Drawing\\PDF\\CR-07 R5\n",
      "\\\\eprom\\fs\\Technical Library\\DCS honeywell\\CD 2\\Final AS Built Documentation - Main DCS\\VOL-02 Part-2ofXX\\181533-MID-102 DCS - System Cabinet Drawing\\PDF\\CR-08 R6\n",
      "\\\\eprom\\fs\\Technical Library\\DCS honeywell\\CD 2\\Final AS Built Documentation - Main DCS\\VOL-02 Part-2ofXX\\181533-MID-102 DCS - System Cabinet Drawing\\PDF\\CR-09 R5\n",
      "\\\\eprom\\fs\\Technical Library\\DCS honeywell\\CD 2\\Final AS Built Documentation - Main DCS\\VOL-03 Part-1ofXX\\PDF 181533-MID-104 P&H\n",
      "\\\\eprom\\fs\\Technical Library\\DCS honeywell\\CD 2\\Final AS Built Documentation - Main DCS\\VOL-03 Part-1ofXX\\PDF 181533-MID-105 BOM\n",
      "\\\\eprom\\fs\\Technical Library\\DCS honeywell\\CD 2\\Final AS Built Documentation - Main DCS\\VOL-04 Part-1ofXX\\PDF 181533-MID-201 DCS Console DWG Rev 7\n",
      "\\\\eprom\\fs\\Technical Library\\DCS honeywell\\CD 2\\Final AS Built Documentation - Main DCS\\VOL-05\\181533-MID-402 DCS Control Scheme & Logic\n",
      "\\\\eprom\\fs\\Technical Library\\DCS honeywell\\CD 2\\Final AS Built Documentation - Main DCS\\VOL-05 Part-1ofXX\\181533-MID-401 DCS IO Database\\PDF\n"
     ]
    },
    {
     "name": "stdout",
     "output_type": "stream",
     "text": [
      "\\\\eprom\\fs\\Technical Library\\DCS honeywell\\CD 3\\Final AS Built Documentation - CR3 Ex\\VOL-02 Part-1ofXX\\EGP000022-102_125_DCS Marshalling R4-R1\\PDF\n",
      "\\\\eprom\\fs\\Technical Library\\DCS honeywell\\CD 3\\Final AS Built Documentation - CR3 Ex\\VOL-02 Part-1ofXX\\EGP000022-104_DCS Marshalling DB R3\n",
      "\\\\eprom\\fs\\Technical Library\\DCS honeywell\\CD 3\\Final AS Built Documentation - CR3 Ex\\VOL-04 Part-1ofXX\\2WLD DCS CR3 Expansion R2 PDF\n",
      "\\\\eprom\\fs\\Technical Library\\DCS honeywell\\CD 3\\Final AS Built Documentation - Main DCS\\VOL-01 Part-1ofXX\\181533-MID-051 Functional Design Specifications - DCS\\PDF\n",
      "\\\\eprom\\fs\\Technical Library\\DCS honeywell\\CD 3\\Final AS Built Documentation - Main DCS\\VOL-01 Part-1ofXX\\181533-MID-051 Functional Design Specifications - DCS\\PDF\n",
      "\\\\eprom\\fs\\Technical Library\\DCS honeywell\\CD 3\\Final AS Built Documentation - Main DCS\\VOL-02 Part-1ofXX\\181533-MID-101 DCS - Network Server Cabinet Drawing\\PDF\\CR-01-ET-02 R5\n",
      "\\\\eprom\\fs\\Technical Library\\DCS honeywell\\CD 3\\Final AS Built Documentation - Main DCS\\VOL-02 Part-1ofXX\\181533-MID-101 DCS - Network Server Cabinet Drawing\\PDF\\CR-01-ET-03 R4\n",
      "\\\\eprom\\fs\\Technical Library\\DCS honeywell\\CD 3\\Final AS Built Documentation - Main DCS\\VOL-02 Part-1ofXX\\181533-MID-101 DCS - Network Server Cabinet Drawing\\PDF\\CR-02-ETW-01 R7\n",
      "\\\\eprom\\fs\\Technical Library\\DCS honeywell\\CD 3\\Final AS Built Documentation - Main DCS\\VOL-02 Part-1ofXX\\181533-MID-101 DCS - Network Server Cabinet Drawing\\PDF\\CR-03-ETW-01 R8\n",
      "\\\\eprom\\fs\\Technical Library\\DCS honeywell\\CD 3\\Final AS Built Documentation - Main DCS\\VOL-02 Part-1ofXX\\181533-MID-101 DCS - Network Server Cabinet Drawing\\PDF\\CR-04-ETW-01 R7\n",
      "\\\\eprom\\fs\\Technical Library\\DCS honeywell\\CD 3\\Final AS Built Documentation - Main DCS\\VOL-02 Part-1ofXX\\181533-MID-101 DCS - Network Server Cabinet Drawing\\PDF\\CR-05-ETW-01 R7\n",
      "\\\\eprom\\fs\\Technical Library\\DCS honeywell\\CD 3\\Final AS Built Documentation - Main DCS\\VOL-02 Part-1ofXX\\181533-MID-101 DCS - Network Server Cabinet Drawing\\PDF\\CR-06-ETW-01 R8\n",
      "\\\\eprom\\fs\\Technical Library\\DCS honeywell\\CD 3\\Final AS Built Documentation - Main DCS\\VOL-02 Part-1ofXX\\181533-MID-101 DCS - Network Server Cabinet Drawing\\PDF\\CR-07-ETW-01 R7\n",
      "\\\\eprom\\fs\\Technical Library\\DCS honeywell\\CD 3\\Final AS Built Documentation - Main DCS\\VOL-02 Part-1ofXX\\181533-MID-101 DCS - Network Server Cabinet Drawing\\PDF\\CR-08-ETW-01 R7\n",
      "\\\\eprom\\fs\\Technical Library\\DCS honeywell\\CD 3\\Final AS Built Documentation - Main DCS\\VOL-02 Part-2ofXX\\181533-MID-102 DCS - System Cabinet Drawing\\PDF\\CR-02 R5\n",
      "\\\\eprom\\fs\\Technical Library\\DCS honeywell\\CD 3\\Final AS Built Documentation - Main DCS\\VOL-02 Part-2ofXX\\181533-MID-102 DCS - System Cabinet Drawing\\PDF\\CR-03 R7\n",
      "\\\\eprom\\fs\\Technical Library\\DCS honeywell\\CD 3\\Final AS Built Documentation - Main DCS\\VOL-02 Part-2ofXX\\181533-MID-102 DCS - System Cabinet Drawing\\PDF\\CR-04 R6\n",
      "\\\\eprom\\fs\\Technical Library\\DCS honeywell\\CD 3\\Final AS Built Documentation - Main DCS\\VOL-02 Part-2ofXX\\181533-MID-102 DCS - System Cabinet Drawing\\PDF\\CR-05 R6\n",
      "\\\\eprom\\fs\\Technical Library\\DCS honeywell\\CD 3\\Final AS Built Documentation - Main DCS\\VOL-02 Part-2ofXX\\181533-MID-102 DCS - System Cabinet Drawing\\PDF\\CR-06 R6\n",
      "\\\\eprom\\fs\\Technical Library\\DCS honeywell\\CD 3\\Final AS Built Documentation - Main DCS\\VOL-02 Part-2ofXX\\181533-MID-102 DCS - System Cabinet Drawing\\PDF\\CR-07 R5\n",
      "\\\\eprom\\fs\\Technical Library\\DCS honeywell\\CD 3\\Final AS Built Documentation - Main DCS\\VOL-02 Part-2ofXX\\181533-MID-102 DCS - System Cabinet Drawing\\PDF\\CR-08 R6\n",
      "\\\\eprom\\fs\\Technical Library\\DCS honeywell\\CD 3\\Final AS Built Documentation - Main DCS\\VOL-02 Part-2ofXX\\181533-MID-102 DCS - System Cabinet Drawing\\PDF\\CR-09 R5\n",
      "\\\\eprom\\fs\\Technical Library\\DCS honeywell\\CD 3\\Final AS Built Documentation - Main DCS\\VOL-03 Part-1ofXX\\PDF 181533-MID-104 P&H\n",
      "\\\\eprom\\fs\\Technical Library\\DCS honeywell\\CD 3\\Final AS Built Documentation - Main DCS\\VOL-03 Part-1ofXX\\PDF 181533-MID-105 BOM\n",
      "\\\\eprom\\fs\\Technical Library\\DCS honeywell\\CD 3\\Final AS Built Documentation - Main DCS\\VOL-04 Part-1ofXX\\PDF 181533-MID-201 DCS Console DWG Rev 7\n",
      "\\\\eprom\\fs\\Technical Library\\DCS honeywell\\CD 3\\Final AS Built Documentation - Main DCS\\VOL-05\\181533-MID-402 DCS Control Scheme & Logic\n",
      "\\\\eprom\\fs\\Technical Library\\DCS honeywell\\CD 3\\Final AS Built Documentation - Main DCS\\VOL-05 Part-1ofXX\\181533-MID-401 DCS IO Database\\PDF\n"
     ]
    }
   ],
   "source": [
    "for path_,folder,file in os.walk(path):\n",
    "    for f in file:\n",
    "        if re.match(pattern,f): # match get the thing if it is in the beginning, re.search() used for anywhere\n",
    "            print(path_)"
   ]
  }
 ],
 "metadata": {
  "kernelspec": {
   "display_name": "Python 3 (ipykernel)",
   "language": "python",
   "name": "python3"
  },
  "language_info": {
   "codemirror_mode": {
    "name": "ipython",
    "version": 3
   },
   "file_extension": ".py",
   "mimetype": "text/x-python",
   "name": "python",
   "nbconvert_exporter": "python",
   "pygments_lexer": "ipython3",
   "version": "3.9.7"
  }
 },
 "nbformat": 4,
 "nbformat_minor": 5
}
