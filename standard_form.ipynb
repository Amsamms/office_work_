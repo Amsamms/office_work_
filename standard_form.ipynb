{
 "cells": [
  {
   "cell_type": "code",
   "execution_count": 1,
   "id": "713f4f12",
   "metadata": {},
   "outputs": [
    {
     "data": {
      "text/html": [
       "        <script type=\"text/javascript\">\n",
       "        window.PlotlyConfig = {MathJaxConfig: 'local'};\n",
       "        if (window.MathJax && window.MathJax.Hub && window.MathJax.Hub.Config) {window.MathJax.Hub.Config({SVG: {font: \"STIX-Web\"}});}\n",
       "        if (typeof require !== 'undefined') {\n",
       "        require.undef(\"plotly\");\n",
       "        requirejs.config({\n",
       "            paths: {\n",
       "                'plotly': ['https://cdn.plot.ly/plotly-2.14.0.min']\n",
       "            }\n",
       "        });\n",
       "        require(['plotly'], function(Plotly) {\n",
       "            window._Plotly = Plotly;\n",
       "        });\n",
       "        }\n",
       "        </script>\n",
       "        "
      ]
     },
     "metadata": {},
     "output_type": "display_data"
    }
   ],
   "source": [
    "import ahmedsabri\n",
    "from ahmedsabri import *\n",
    "import pandas as pd\n",
    "import numpy as np\n",
    "from datetime import date"
   ]
  },
  {
   "cell_type": "markdown",
   "id": "0a2511f9",
   "metadata": {},
   "source": [
    "### first dataframe"
   ]
  },
  {
   "cell_type": "code",
   "execution_count": 2,
   "id": "f89b6e36",
   "metadata": {},
   "outputs": [],
   "source": [
    "df_macro_1=pd.read_excel('U12_macro_from_2016.xlsx')"
   ]
  },
  {
   "cell_type": "code",
   "execution_count": 3,
   "id": "7ff98bdb",
   "metadata": {},
   "outputs": [
    {
     "name": "stdout",
     "output_type": "stream",
     "text": [
      "Date\n",
      "datetime64[ns]\n"
     ]
    }
   ],
   "source": [
    "# Make sure that the first column is date and is parsed as date\n",
    "print(df_macro_1.columns[0])\n",
    "print(df_macro_1[df_macro_1.columns[0]].dtype)"
   ]
  },
  {
   "cell_type": "code",
   "execution_count": 4,
   "id": "270b62a4",
   "metadata": {},
   "outputs": [],
   "source": [
    "for column in df_macro_1.columns[1:]:\n",
    "    df_macro_1[column]=pd.to_numeric(df_macro_1[column],errors='coerce')"
   ]
  },
  {
   "cell_type": "code",
   "execution_count": 5,
   "id": "a402cdf0",
   "metadata": {},
   "outputs": [],
   "source": [
    "df_macro_1.set_index('Date',inplace=True)"
   ]
  },
  {
   "cell_type": "markdown",
   "id": "5da94aab",
   "metadata": {},
   "source": [
    "## second dataframe that will be merged horizontally to first dataframe"
   ]
  },
  {
   "cell_type": "code",
   "execution_count": 6,
   "id": "71495bb1",
   "metadata": {},
   "outputs": [],
   "source": [
    "df_macro_2=pd.read_excel('U12.xlsx')"
   ]
  },
  {
   "cell_type": "code",
   "execution_count": 7,
   "id": "f8a8c403",
   "metadata": {},
   "outputs": [
    {
     "name": "stdout",
     "output_type": "stream",
     "text": [
      "Date\n",
      "datetime64[ns]\n"
     ]
    }
   ],
   "source": [
    "# Make sure that the first column is date and is parsed as date\n",
    "print(df_macro_2.columns[0])\n",
    "print(df_macro_2[df_macro_2.columns[0]].dtype)"
   ]
  },
  {
   "cell_type": "code",
   "execution_count": 8,
   "id": "005c6442",
   "metadata": {},
   "outputs": [],
   "source": [
    "for column in df_macro_2.columns[1:]:\n",
    "    df_macro_2[column]=pd.to_numeric(df_macro_2[column],errors='coerce')"
   ]
  },
  {
   "cell_type": "code",
   "execution_count": 9,
   "id": "c2793959",
   "metadata": {},
   "outputs": [],
   "source": [
    "df_macro_2.set_index('Date',inplace=True)"
   ]
  },
  {
   "cell_type": "code",
   "execution_count": 10,
   "id": "52ec9067",
   "metadata": {},
   "outputs": [],
   "source": [
    "df_macro=pd.concat([df_macro_1,df_macro_2])"
   ]
  },
  {
   "cell_type": "code",
   "execution_count": 11,
   "id": "341c5ec9",
   "metadata": {},
   "outputs": [],
   "source": [
    "df_macro.sort_index(inplace=True) # sort dates from oldest to newest"
   ]
  },
  {
   "cell_type": "markdown",
   "id": "4c3ef05b",
   "metadata": {},
   "source": [
    "## 3rd dataframe that will be merged vertically to the previous dataframe"
   ]
  },
  {
   "cell_type": "code",
   "execution_count": 12,
   "id": "d0193380",
   "metadata": {},
   "outputs": [],
   "source": [
    "df_lab=pd.read_excel('U12_lab_from_2016.xlsx')"
   ]
  },
  {
   "cell_type": "code",
   "execution_count": 13,
   "id": "9a1fdbdf",
   "metadata": {},
   "outputs": [
    {
     "name": "stdout",
     "output_type": "stream",
     "text": [
      "Date\n",
      "datetime64[ns]\n"
     ]
    }
   ],
   "source": [
    "print(df_lab.columns[0])\n",
    "print(df_lab[df_lab.columns[0]].dtype)"
   ]
  },
  {
   "cell_type": "code",
   "execution_count": 14,
   "id": "95af0156",
   "metadata": {},
   "outputs": [],
   "source": [
    "for column in df_lab.columns[1:]:\n",
    "    df_lab[column]=pd.to_numeric(df_lab[column],errors='coerce')"
   ]
  },
  {
   "cell_type": "code",
   "execution_count": 15,
   "id": "c07e24a7",
   "metadata": {},
   "outputs": [],
   "source": [
    "df_lab.set_index('Date',inplace=True)"
   ]
  },
  {
   "cell_type": "code",
   "execution_count": 16,
   "id": "90098a1a",
   "metadata": {
    "scrolled": false
   },
   "outputs": [],
   "source": [
    "df=df_lab.merge(df_macro, how='outer', on=None, left_on=None, right_on=None, left_index=True, right_index=True) "
   ]
  },
  {
   "cell_type": "code",
   "execution_count": null,
   "id": "6f1d4c7d",
   "metadata": {},
   "outputs": [],
   "source": []
  },
  {
   "cell_type": "code",
   "execution_count": null,
   "id": "81f24704",
   "metadata": {},
   "outputs": [],
   "source": []
  },
  {
   "cell_type": "markdown",
   "id": "ffdc7a0c",
   "metadata": {},
   "source": [
    "## Choosing some specefic days for deviation computation"
   ]
  },
  {
   "cell_type": "code",
   "execution_count": 300,
   "id": "25d88916",
   "metadata": {},
   "outputs": [],
   "source": [
    "choosen_days=['2020-08-22','2022-11-06', '2022-12-26', '2022-12-28', '2023-01-29']"
   ]
  },
  {
   "cell_type": "code",
   "execution_count": 304,
   "id": "ae235f37",
   "metadata": {},
   "outputs": [],
   "source": [
    "choosen_days=['2020-08-22','2022-11-06', '2022-12-26', '2022-12-28','2023-01-31' ]"
   ]
  },
  {
   "cell_type": "code",
   "execution_count": 308,
   "id": "11318173",
   "metadata": {},
   "outputs": [],
   "source": [
    "choosen_days=['2020-08-22','2022-11-06', '2022-12-26', '2023-01-29','2023-01-31' ] # This is the one"
   ]
  },
  {
   "cell_type": "code",
   "execution_count": 316,
   "id": "8e1268b8",
   "metadata": {},
   "outputs": [],
   "source": [
    "choosen_days=['2020-08-22','2022-11-06', '2022-12-28', '2023-01-29','2023-01-31' ]"
   ]
  },
  {
   "cell_type": "code",
   "execution_count": 320,
   "id": "d3513833",
   "metadata": {},
   "outputs": [],
   "source": [
    "choosen_days=['2020-08-22', '2022-12-26', '2022-12-28', '2023-01-29','2023-01-31' ]"
   ]
  },
  {
   "cell_type": "code",
   "execution_count": 296,
   "id": "c9a28eee",
   "metadata": {},
   "outputs": [],
   "source": [
    "choosen_days=['2022-11-06', '2022-12-26', '2022-12-28', '2023-01-29','2023-01-31' ]"
   ]
  },
  {
   "cell_type": "code",
   "execution_count": 139,
   "id": "aeb0135e",
   "metadata": {},
   "outputs": [],
   "source": [
    "choosen_days=['2020-08-22','2022-11-06', '2022-12-26', '2022-12-28', '2023-01-29','2023-01-31' ]"
   ]
  },
  {
   "cell_type": "code",
   "execution_count": 321,
   "id": "5b7b4a35",
   "metadata": {},
   "outputs": [],
   "source": [
    "# making dectionary with keys of days and values of outliers column\n",
    "dayss={}\n",
    "for day in choosen_days:\n",
    "    dayss[f'{day}']=outlier_columns(df.loc[day],a=2.5).columns"
   ]
  },
  {
   "cell_type": "markdown",
   "id": "2243e776",
   "metadata": {},
   "source": [
    "## intersections between all "
   ]
  },
  {
   "cell_type": "code",
   "execution_count": 322,
   "id": "d7ca215d",
   "metadata": {},
   "outputs": [],
   "source": [
    "intersection = set(dayss[choosen_days[0]]).intersection(*[dayss[day] for day in choosen_days[1:]])"
   ]
  },
  {
   "cell_type": "code",
   "execution_count": 323,
   "id": "9eee04c9",
   "metadata": {},
   "outputs": [
    {
     "data": {
      "text/plain": [
       "{'Flow Rate Stabilized LPG  M3/H 12-FIC -040',\n",
       " 'Level Of Rich Amine In.T-54 Bottom Section % 12-LIC -031',\n",
       " 'Propane To Storage M3/H 12-FIC-062',\n",
       " 'Temp.Of Butane From T53 o C 12-TI -055'}"
      ]
     },
     "execution_count": 323,
     "metadata": {},
     "output_type": "execute_result"
    }
   ],
   "source": [
    "intersection"
   ]
  },
  {
   "cell_type": "code",
   "execution_count": 265,
   "id": "7cd0aeb7",
   "metadata": {},
   "outputs": [
    {
     "data": {
      "text/plain": [
       "\"\\n#understanding\\n# Define three lists of numbers\\nlist1 = [1, 2, 3, 4, 5]\\nlist2 = [3, 4, 5, 6, 7]\\nlist3 = [2, 4, 6, 8, 10]\\n\\n# Define a dictionary that maps list names to the lists\\nlists = {'list1': list1, 'list2': list2, 'list3': list3}\\n\\n# Find the intersection of all the lists, * is used for unzipping\\nintersection = set(lists['list1']).intersection(*[lists[name] for name in lists if name != 'list1'])\\n\\n# Print the intersection\\nprint(intersection)\\n\""
      ]
     },
     "execution_count": 265,
     "metadata": {},
     "output_type": "execute_result"
    }
   ],
   "source": [
    "'''\n",
    "#understanding\n",
    "# Define three lists of numbers\n",
    "list1 = [1, 2, 3, 4, 5]\n",
    "list2 = [3, 4, 5, 6, 7]\n",
    "list3 = [2, 4, 6, 8, 10]\n",
    "\n",
    "# Define a dictionary that maps list names to the lists\n",
    "lists = {'list1': list1, 'list2': list2, 'list3': list3}\n",
    "\n",
    "# Find the intersection of all the lists, * is used for unzipping\n",
    "intersection = set(lists['list1']).intersection(*[lists[name] for name in lists if name != 'list1'])\n",
    "\n",
    "# Print the intersection\n",
    "print(intersection)\n",
    "'''"
   ]
  },
  {
   "cell_type": "code",
   "execution_count": null,
   "id": "7dffdb8a",
   "metadata": {},
   "outputs": [],
   "source": []
  },
  {
   "cell_type": "code",
   "execution_count": null,
   "id": "9cce3600",
   "metadata": {},
   "outputs": [],
   "source": []
  },
  {
   "cell_type": "markdown",
   "id": "efee3063",
   "metadata": {},
   "source": [
    "## Determining the specefic columns name to check all other days with"
   ]
  },
  {
   "cell_type": "code",
   "execution_count": 266,
   "id": "3919e8b3",
   "metadata": {},
   "outputs": [
    {
     "data": {
      "text/plain": [
       "Index(['^P Caustic Wash Section  mmWC 12-PDI -011',\n",
       "       'Spent Caustic From T-02 % 12-LIC -010',\n",
       "       'Water Purage On T-02  % 12-LIC -011'],\n",
       "      dtype='object')"
      ]
     },
     "execution_count": 266,
     "metadata": {},
     "output_type": "execute_result"
    }
   ],
   "source": [
    "#df.columns[df.columns.str.contains('12-PDI -011|Water Purage On T-02  % 12-LIC -011|Spent Caustic From T-02 % 12-LIC -010')]"
   ]
  },
  {
   "cell_type": "code",
   "execution_count": 273,
   "id": "f7b35593",
   "metadata": {},
   "outputs": [
    {
     "data": {
      "text/plain": [
       "Index(['^P Caustic Wash Section  mmWC 12-PDI -011',\n",
       "       '^P Water Wash Section  mmWC 12-PDI -012',\n",
       "       'Spent Caustic From T-02 % 12-LIC -010',\n",
       "       'Water Purage On T-02  % 12-LIC -011'],\n",
       "      dtype='object')"
      ]
     },
     "execution_count": 273,
     "metadata": {},
     "output_type": "execute_result"
    }
   ],
   "source": [
    "df.columns[df.columns.str.contains('^P Caustic Wash Section  mmWC 12-PDI -011|Water Purage On T-02  % 12-LIC -011|Spent Caustic From T-02 % 12-LIC -010|12-PDI -011|12-PDI -012')]"
   ]
  },
  {
   "cell_type": "code",
   "execution_count": 274,
   "id": "b4b2d048",
   "metadata": {},
   "outputs": [],
   "source": [
    "common_items=df.columns[df.columns.str.contains('^P Caustic Wash Section  mmWC 12-PDI -011|Water Purage On T-02  % 12-LIC -011|Spent Caustic From T-02 % 12-LIC -010|12-PDI -011|12-PDI -012')]"
   ]
  },
  {
   "cell_type": "code",
   "execution_count": 324,
   "id": "2417ef52",
   "metadata": {},
   "outputs": [
    {
     "data": {
      "text/plain": [
       "Index(['^P Caustic Wash Section  mmWC 12-PDI -011',\n",
       "       '^P Water Wash Section  mmWC 12-PDI -012',\n",
       "       'Spent Caustic From T-02 % 12-LIC -010',\n",
       "       'Water Purage On T-02  % 12-LIC -011'],\n",
       "      dtype='object')"
      ]
     },
     "execution_count": 324,
     "metadata": {},
     "output_type": "execute_result"
    }
   ],
   "source": [
    "common_items"
   ]
  },
  {
   "cell_type": "code",
   "execution_count": 270,
   "id": "1507cd49",
   "metadata": {
    "scrolled": false
   },
   "outputs": [
    {
     "data": {
      "text/plain": [
       "\"\\n# select day or couple of days to \\nday='2022-11-06'# one day selection\\nstart_date= '2022-12-26' #\\nend_date = '2022-12-29' #\\n\\n#plotting(outlier_columns(df.loc[start_date:end_date],a=8.5),interactiv=True)\\nplotting(outlier_columns(df.loc[day],a=3),interactiv=True)\\n\""
      ]
     },
     "execution_count": 270,
     "metadata": {},
     "output_type": "execute_result"
    }
   ],
   "source": [
    "'''\n",
    "# select day or couple of days to \n",
    "day='2022-11-06'# one day selection\n",
    "start_date= '2022-12-26' #\n",
    "end_date = '2022-12-29' #\n",
    "\n",
    "#plotting(outlier_columns(df.loc[start_date:end_date],a=8.5),interactiv=True)\n",
    "plotting(outlier_columns(df.loc[day],a=3),interactiv=True)\n",
    "'''"
   ]
  },
  {
   "cell_type": "code",
   "execution_count": 90,
   "id": "99189083",
   "metadata": {},
   "outputs": [],
   "source": [
    "#common_items = R_28_31_01_2023.intersection(R_20_23_08_2022).intersection(R_26_29_12_2022)"
   ]
  },
  {
   "cell_type": "code",
   "execution_count": 91,
   "id": "947198c8",
   "metadata": {},
   "outputs": [],
   "source": [
    "#possible_days=[R_22_08_2022, R_06_11_2022, R_26_12_2022, R_27_12_2022, R_28_12_2022, R_29_01_2023,R_31_01_2023]"
   ]
  },
  {
   "cell_type": "code",
   "execution_count": 92,
   "id": "1a7a8dfa",
   "metadata": {},
   "outputs": [
    {
     "data": {
      "text/plain": [
       "\"\\nfor day in possible_days[1:]:\\n    print(possible_days[0].intersection(day))\\n    print('++++++++++++++++++++++++++++++++++')\\n    print('++++++++++++++++++++++++++++++++++++++')\\n\""
      ]
     },
     "execution_count": 92,
     "metadata": {},
     "output_type": "execute_result"
    }
   ],
   "source": [
    "'''\n",
    "for day in possible_days[1:]:\n",
    "    print(possible_days[0].intersection(day))\n",
    "    print('++++++++++++++++++++++++++++++++++')\n",
    "    print('++++++++++++++++++++++++++++++++++++++')\n",
    "'''"
   ]
  },
  {
   "cell_type": "code",
   "execution_count": null,
   "id": "eed0586d",
   "metadata": {},
   "outputs": [],
   "source": []
  },
  {
   "cell_type": "code",
   "execution_count": null,
   "id": "97338670",
   "metadata": {},
   "outputs": [],
   "source": []
  },
  {
   "cell_type": "markdown",
   "id": "9fd5533b",
   "metadata": {},
   "source": [
    "## searching by day or set of days for thes spcefic column names"
   ]
  },
  {
   "cell_type": "code",
   "execution_count": 325,
   "id": "a6d61889",
   "metadata": {},
   "outputs": [],
   "source": [
    "selected_days = []\n",
    "specific_columns = common_items"
   ]
  },
  {
   "cell_type": "code",
   "execution_count": 326,
   "id": "5c4ca6d9",
   "metadata": {
    "scrolled": false
   },
   "outputs": [],
   "source": [
    "# running the function for each day\n",
    "for date in np.unique(df.index.date):\n",
    "    day_rows = df.loc[date.strftime(\"%Y-%m-%d\")]\n",
    "    returned_columns = outlier_columns(day_rows,a=2)\n",
    "    if all(col in returned_columns for col in specific_columns):\n",
    "        selected_days.append(date)"
   ]
  },
  {
   "cell_type": "code",
   "execution_count": 135,
   "id": "492c40e1",
   "metadata": {},
   "outputs": [],
   "source": [
    "# running the function for every X days\n",
    "days_no=5\n",
    "# generate a range of dates every X days\n",
    "date_ranges = pd.date_range(start=df.index.min().date(), end=df.index.max().date(), freq=f'{days_no}D')\n",
    "\n",
    "for i in range(len(date_ranges)-1):\n",
    "    start_date = date_ranges[i].strftime(\"%Y-%m-%d\")\n",
    "    end_date = date_ranges[i+1].strftime(\"%Y-%m-%d\")\n",
    "    day_rows = df.loc[start_date:end_date]\n",
    "    returned_columns = outlier_columns(day_rows,a=2.5)\n",
    "    if all(col in returned_columns for col in specific_columns):\n",
    "        selected_days.append((start_date, end_date))"
   ]
  },
  {
   "cell_type": "code",
   "execution_count": 64,
   "id": "7abd9af5",
   "metadata": {},
   "outputs": [],
   "source": [
    "#understanding \n",
    "#df.loc[date(2017,5,5).strftime(\"%Y-%m-%d\")]\n",
    "\n",
    "# generate a range of dates every X days\n",
    "#date_ranges = pd.date_range(start=df.index.min().date(), end=df.index.max().date(), freq=f'{days_no}D')"
   ]
  },
  {
   "cell_type": "code",
   "execution_count": 86,
   "id": "c25cc490",
   "metadata": {},
   "outputs": [],
   "source": [
    "#understanding\n",
    "#for date in np.unique(df.index.date):\n",
    " #   print(date)"
   ]
  },
  {
   "cell_type": "code",
   "execution_count": null,
   "id": "13f0d8ad",
   "metadata": {},
   "outputs": [],
   "source": []
  },
  {
   "cell_type": "code",
   "execution_count": 327,
   "id": "3c20bf78",
   "metadata": {
    "scrolled": false
   },
   "outputs": [
    {
     "data": {
      "text/plain": [
       "[datetime.date(2016, 5, 24),\n",
       " datetime.date(2016, 5, 25),\n",
       " datetime.date(2016, 5, 27),\n",
       " datetime.date(2016, 5, 29),\n",
       " datetime.date(2016, 6, 2),\n",
       " datetime.date(2016, 6, 4),\n",
       " datetime.date(2016, 6, 5),\n",
       " datetime.date(2016, 6, 15),\n",
       " datetime.date(2016, 6, 18),\n",
       " datetime.date(2016, 6, 20),\n",
       " datetime.date(2016, 6, 23),\n",
       " datetime.date(2016, 7, 16),\n",
       " datetime.date(2016, 7, 18),\n",
       " datetime.date(2016, 7, 19),\n",
       " datetime.date(2016, 7, 23),\n",
       " datetime.date(2016, 7, 25),\n",
       " datetime.date(2016, 7, 31),\n",
       " datetime.date(2016, 8, 13),\n",
       " datetime.date(2016, 8, 15),\n",
       " datetime.date(2016, 8, 18),\n",
       " datetime.date(2016, 8, 21),\n",
       " datetime.date(2016, 8, 22),\n",
       " datetime.date(2016, 8, 24),\n",
       " datetime.date(2016, 8, 26),\n",
       " datetime.date(2016, 8, 27),\n",
       " datetime.date(2016, 8, 29),\n",
       " datetime.date(2016, 8, 30),\n",
       " datetime.date(2016, 9, 2),\n",
       " datetime.date(2016, 9, 3),\n",
       " datetime.date(2016, 9, 6),\n",
       " datetime.date(2016, 9, 15),\n",
       " datetime.date(2016, 9, 21),\n",
       " datetime.date(2016, 9, 29),\n",
       " datetime.date(2016, 9, 30),\n",
       " datetime.date(2016, 10, 1),\n",
       " datetime.date(2016, 10, 24),\n",
       " datetime.date(2016, 11, 4),\n",
       " datetime.date(2016, 11, 12),\n",
       " datetime.date(2016, 11, 13),\n",
       " datetime.date(2016, 11, 21),\n",
       " datetime.date(2017, 11, 22),\n",
       " datetime.date(2017, 11, 29),\n",
       " datetime.date(2017, 11, 30),\n",
       " datetime.date(2017, 12, 2),\n",
       " datetime.date(2017, 12, 5),\n",
       " datetime.date(2017, 12, 7),\n",
       " datetime.date(2017, 12, 11),\n",
       " datetime.date(2017, 12, 12),\n",
       " datetime.date(2017, 12, 22),\n",
       " datetime.date(2017, 12, 25),\n",
       " datetime.date(2017, 12, 27),\n",
       " datetime.date(2017, 12, 30),\n",
       " datetime.date(2018, 1, 12),\n",
       " datetime.date(2018, 1, 13),\n",
       " datetime.date(2018, 1, 16),\n",
       " datetime.date(2018, 1, 17),\n",
       " datetime.date(2018, 1, 19),\n",
       " datetime.date(2018, 1, 22),\n",
       " datetime.date(2018, 1, 26),\n",
       " datetime.date(2018, 1, 29),\n",
       " datetime.date(2018, 2, 6),\n",
       " datetime.date(2018, 2, 18),\n",
       " datetime.date(2018, 2, 23),\n",
       " datetime.date(2018, 2, 24),\n",
       " datetime.date(2018, 3, 4),\n",
       " datetime.date(2018, 3, 20),\n",
       " datetime.date(2018, 3, 24),\n",
       " datetime.date(2018, 3, 25),\n",
       " datetime.date(2018, 3, 26),\n",
       " datetime.date(2018, 3, 29),\n",
       " datetime.date(2018, 3, 30),\n",
       " datetime.date(2018, 3, 31),\n",
       " datetime.date(2018, 4, 8),\n",
       " datetime.date(2018, 4, 18),\n",
       " datetime.date(2018, 4, 19),\n",
       " datetime.date(2018, 4, 25),\n",
       " datetime.date(2018, 4, 30),\n",
       " datetime.date(2018, 5, 19),\n",
       " datetime.date(2018, 5, 20),\n",
       " datetime.date(2018, 5, 25),\n",
       " datetime.date(2018, 5, 30),\n",
       " datetime.date(2018, 6, 5),\n",
       " datetime.date(2018, 6, 11),\n",
       " datetime.date(2018, 6, 26),\n",
       " datetime.date(2018, 7, 2),\n",
       " datetime.date(2018, 7, 5),\n",
       " datetime.date(2018, 7, 11),\n",
       " datetime.date(2018, 7, 17),\n",
       " datetime.date(2018, 7, 18),\n",
       " datetime.date(2018, 7, 19),\n",
       " datetime.date(2018, 7, 21),\n",
       " datetime.date(2018, 7, 23),\n",
       " datetime.date(2018, 7, 24),\n",
       " datetime.date(2018, 7, 28),\n",
       " datetime.date(2018, 7, 29),\n",
       " datetime.date(2018, 8, 1),\n",
       " datetime.date(2018, 8, 4),\n",
       " datetime.date(2018, 8, 6),\n",
       " datetime.date(2018, 8, 11),\n",
       " datetime.date(2018, 8, 13),\n",
       " datetime.date(2018, 8, 18),\n",
       " datetime.date(2018, 8, 19),\n",
       " datetime.date(2018, 8, 20),\n",
       " datetime.date(2018, 8, 22),\n",
       " datetime.date(2018, 8, 24),\n",
       " datetime.date(2018, 8, 26),\n",
       " datetime.date(2018, 9, 1),\n",
       " datetime.date(2018, 9, 11),\n",
       " datetime.date(2018, 9, 13),\n",
       " datetime.date(2018, 9, 16),\n",
       " datetime.date(2018, 9, 19),\n",
       " datetime.date(2018, 9, 23),\n",
       " datetime.date(2018, 10, 1),\n",
       " datetime.date(2018, 10, 5),\n",
       " datetime.date(2018, 10, 7),\n",
       " datetime.date(2018, 10, 19),\n",
       " datetime.date(2018, 10, 22),\n",
       " datetime.date(2018, 10, 23),\n",
       " datetime.date(2018, 10, 30),\n",
       " datetime.date(2018, 10, 31),\n",
       " datetime.date(2018, 11, 2),\n",
       " datetime.date(2018, 11, 3),\n",
       " datetime.date(2018, 11, 4),\n",
       " datetime.date(2018, 11, 10),\n",
       " datetime.date(2018, 11, 12),\n",
       " datetime.date(2018, 11, 13),\n",
       " datetime.date(2018, 11, 15),\n",
       " datetime.date(2018, 11, 16),\n",
       " datetime.date(2018, 11, 25),\n",
       " datetime.date(2018, 11, 29),\n",
       " datetime.date(2018, 11, 30),\n",
       " datetime.date(2018, 12, 2),\n",
       " datetime.date(2018, 12, 3),\n",
       " datetime.date(2018, 12, 4),\n",
       " datetime.date(2018, 12, 7),\n",
       " datetime.date(2018, 12, 10),\n",
       " datetime.date(2018, 12, 13),\n",
       " datetime.date(2018, 12, 20),\n",
       " datetime.date(2018, 12, 28),\n",
       " datetime.date(2018, 12, 29),\n",
       " datetime.date(2019, 1, 8),\n",
       " datetime.date(2019, 1, 12),\n",
       " datetime.date(2019, 1, 13),\n",
       " datetime.date(2019, 1, 14),\n",
       " datetime.date(2019, 1, 24),\n",
       " datetime.date(2019, 1, 25),\n",
       " datetime.date(2019, 2, 2),\n",
       " datetime.date(2019, 2, 4),\n",
       " datetime.date(2019, 2, 8),\n",
       " datetime.date(2019, 2, 10),\n",
       " datetime.date(2019, 2, 15),\n",
       " datetime.date(2019, 2, 22),\n",
       " datetime.date(2019, 2, 24),\n",
       " datetime.date(2019, 3, 1),\n",
       " datetime.date(2019, 3, 2),\n",
       " datetime.date(2019, 3, 6),\n",
       " datetime.date(2019, 3, 8),\n",
       " datetime.date(2019, 3, 9),\n",
       " datetime.date(2019, 3, 15),\n",
       " datetime.date(2019, 3, 16),\n",
       " datetime.date(2019, 3, 18),\n",
       " datetime.date(2019, 3, 22),\n",
       " datetime.date(2019, 3, 23),\n",
       " datetime.date(2019, 3, 30),\n",
       " datetime.date(2019, 4, 9),\n",
       " datetime.date(2019, 4, 21),\n",
       " datetime.date(2019, 4, 25),\n",
       " datetime.date(2019, 4, 29),\n",
       " datetime.date(2019, 5, 1),\n",
       " datetime.date(2019, 5, 8),\n",
       " datetime.date(2019, 5, 12),\n",
       " datetime.date(2019, 6, 3),\n",
       " datetime.date(2019, 6, 5),\n",
       " datetime.date(2019, 6, 6),\n",
       " datetime.date(2019, 6, 7),\n",
       " datetime.date(2019, 6, 24),\n",
       " datetime.date(2019, 6, 25),\n",
       " datetime.date(2019, 7, 1),\n",
       " datetime.date(2019, 7, 2),\n",
       " datetime.date(2019, 7, 4),\n",
       " datetime.date(2019, 7, 6),\n",
       " datetime.date(2019, 7, 7),\n",
       " datetime.date(2019, 7, 12),\n",
       " datetime.date(2019, 7, 14),\n",
       " datetime.date(2019, 8, 8),\n",
       " datetime.date(2019, 8, 12),\n",
       " datetime.date(2019, 8, 28),\n",
       " datetime.date(2019, 9, 11),\n",
       " datetime.date(2019, 9, 12),\n",
       " datetime.date(2019, 9, 17),\n",
       " datetime.date(2019, 9, 18),\n",
       " datetime.date(2019, 9, 28),\n",
       " datetime.date(2019, 9, 30),\n",
       " datetime.date(2019, 10, 14),\n",
       " datetime.date(2019, 10, 15),\n",
       " datetime.date(2019, 10, 16),\n",
       " datetime.date(2019, 10, 18),\n",
       " datetime.date(2019, 10, 28),\n",
       " datetime.date(2019, 10, 29),\n",
       " datetime.date(2019, 11, 2),\n",
       " datetime.date(2019, 11, 10),\n",
       " datetime.date(2019, 11, 16),\n",
       " datetime.date(2019, 11, 17),\n",
       " datetime.date(2019, 11, 22),\n",
       " datetime.date(2019, 11, 23),\n",
       " datetime.date(2019, 11, 30),\n",
       " datetime.date(2019, 12, 2),\n",
       " datetime.date(2019, 12, 6),\n",
       " datetime.date(2019, 12, 9),\n",
       " datetime.date(2019, 12, 18),\n",
       " datetime.date(2019, 12, 21),\n",
       " datetime.date(2019, 12, 22),\n",
       " datetime.date(2019, 12, 25),\n",
       " datetime.date(2019, 12, 26),\n",
       " datetime.date(2019, 12, 27),\n",
       " datetime.date(2020, 1, 2),\n",
       " datetime.date(2020, 1, 7),\n",
       " datetime.date(2020, 1, 8),\n",
       " datetime.date(2020, 1, 12),\n",
       " datetime.date(2020, 1, 15),\n",
       " datetime.date(2020, 1, 16),\n",
       " datetime.date(2020, 1, 20),\n",
       " datetime.date(2020, 1, 22),\n",
       " datetime.date(2020, 1, 26),\n",
       " datetime.date(2020, 1, 27),\n",
       " datetime.date(2020, 1, 28),\n",
       " datetime.date(2020, 1, 29),\n",
       " datetime.date(2020, 1, 30),\n",
       " datetime.date(2020, 1, 31),\n",
       " datetime.date(2020, 2, 1),\n",
       " datetime.date(2020, 2, 2),\n",
       " datetime.date(2020, 2, 3),\n",
       " datetime.date(2020, 2, 5),\n",
       " datetime.date(2020, 2, 7),\n",
       " datetime.date(2020, 2, 9),\n",
       " datetime.date(2020, 2, 11),\n",
       " datetime.date(2020, 2, 12),\n",
       " datetime.date(2020, 2, 13),\n",
       " datetime.date(2020, 2, 15),\n",
       " datetime.date(2020, 2, 17),\n",
       " datetime.date(2020, 2, 18),\n",
       " datetime.date(2020, 2, 20),\n",
       " datetime.date(2020, 2, 21),\n",
       " datetime.date(2020, 2, 22),\n",
       " datetime.date(2020, 2, 23),\n",
       " datetime.date(2020, 2, 24),\n",
       " datetime.date(2020, 2, 25),\n",
       " datetime.date(2020, 3, 2),\n",
       " datetime.date(2020, 3, 3),\n",
       " datetime.date(2020, 3, 4),\n",
       " datetime.date(2020, 3, 5),\n",
       " datetime.date(2020, 3, 6),\n",
       " datetime.date(2020, 3, 8),\n",
       " datetime.date(2020, 3, 9),\n",
       " datetime.date(2020, 3, 10),\n",
       " datetime.date(2020, 3, 12),\n",
       " datetime.date(2020, 3, 13),\n",
       " datetime.date(2020, 3, 14),\n",
       " datetime.date(2020, 3, 16),\n",
       " datetime.date(2020, 3, 17),\n",
       " datetime.date(2020, 3, 19),\n",
       " datetime.date(2020, 3, 23),\n",
       " datetime.date(2020, 3, 26),\n",
       " datetime.date(2020, 3, 27),\n",
       " datetime.date(2020, 3, 28),\n",
       " datetime.date(2020, 3, 30),\n",
       " datetime.date(2020, 4, 1),\n",
       " datetime.date(2020, 4, 7),\n",
       " datetime.date(2020, 4, 9),\n",
       " datetime.date(2020, 4, 13),\n",
       " datetime.date(2020, 4, 16),\n",
       " datetime.date(2020, 4, 19),\n",
       " datetime.date(2020, 4, 30),\n",
       " datetime.date(2020, 5, 1),\n",
       " datetime.date(2020, 5, 5),\n",
       " datetime.date(2020, 5, 6),\n",
       " datetime.date(2020, 5, 9),\n",
       " datetime.date(2020, 5, 14),\n",
       " datetime.date(2020, 5, 18),\n",
       " datetime.date(2020, 5, 20),\n",
       " datetime.date(2020, 5, 23),\n",
       " datetime.date(2020, 5, 25),\n",
       " datetime.date(2020, 6, 2),\n",
       " datetime.date(2020, 6, 4),\n",
       " datetime.date(2020, 6, 8),\n",
       " datetime.date(2020, 6, 10),\n",
       " datetime.date(2020, 6, 12),\n",
       " datetime.date(2020, 6, 18),\n",
       " datetime.date(2020, 6, 20),\n",
       " datetime.date(2020, 6, 21),\n",
       " datetime.date(2020, 6, 26),\n",
       " datetime.date(2020, 6, 28),\n",
       " datetime.date(2020, 6, 30),\n",
       " datetime.date(2020, 7, 1),\n",
       " datetime.date(2020, 7, 4),\n",
       " datetime.date(2020, 7, 8),\n",
       " datetime.date(2020, 7, 10),\n",
       " datetime.date(2020, 7, 12),\n",
       " datetime.date(2020, 7, 15),\n",
       " datetime.date(2020, 7, 16),\n",
       " datetime.date(2020, 7, 21),\n",
       " datetime.date(2020, 7, 22),\n",
       " datetime.date(2020, 7, 23),\n",
       " datetime.date(2020, 7, 24),\n",
       " datetime.date(2020, 7, 26),\n",
       " datetime.date(2020, 7, 30),\n",
       " datetime.date(2020, 7, 31),\n",
       " datetime.date(2020, 8, 12),\n",
       " datetime.date(2020, 8, 14),\n",
       " datetime.date(2020, 8, 16),\n",
       " datetime.date(2020, 8, 18),\n",
       " datetime.date(2020, 8, 22),\n",
       " datetime.date(2020, 8, 23),\n",
       " datetime.date(2020, 8, 30),\n",
       " datetime.date(2020, 9, 12),\n",
       " datetime.date(2020, 9, 19),\n",
       " datetime.date(2020, 9, 20),\n",
       " datetime.date(2020, 9, 28),\n",
       " datetime.date(2020, 10, 1),\n",
       " datetime.date(2020, 10, 3),\n",
       " datetime.date(2020, 10, 5),\n",
       " datetime.date(2020, 10, 7),\n",
       " datetime.date(2020, 10, 9),\n",
       " datetime.date(2020, 10, 11),\n",
       " datetime.date(2020, 10, 17),\n",
       " datetime.date(2020, 10, 25),\n",
       " datetime.date(2020, 10, 26),\n",
       " datetime.date(2020, 10, 27),\n",
       " datetime.date(2020, 11, 8),\n",
       " datetime.date(2020, 11, 13),\n",
       " datetime.date(2020, 11, 18),\n",
       " datetime.date(2020, 11, 24),\n",
       " datetime.date(2020, 12, 8),\n",
       " datetime.date(2020, 12, 19),\n",
       " datetime.date(2020, 12, 25),\n",
       " datetime.date(2020, 12, 28),\n",
       " datetime.date(2021, 1, 10),\n",
       " datetime.date(2021, 1, 22),\n",
       " datetime.date(2021, 3, 18),\n",
       " datetime.date(2021, 3, 22),\n",
       " datetime.date(2021, 3, 27),\n",
       " datetime.date(2021, 3, 29),\n",
       " datetime.date(2021, 4, 2),\n",
       " datetime.date(2021, 4, 7),\n",
       " datetime.date(2021, 4, 8),\n",
       " datetime.date(2021, 4, 17),\n",
       " datetime.date(2021, 4, 20),\n",
       " datetime.date(2021, 4, 27),\n",
       " datetime.date(2021, 4, 28),\n",
       " datetime.date(2021, 5, 2),\n",
       " datetime.date(2021, 9, 3),\n",
       " datetime.date(2021, 9, 10),\n",
       " datetime.date(2021, 9, 12),\n",
       " datetime.date(2021, 9, 13),\n",
       " datetime.date(2021, 9, 15),\n",
       " datetime.date(2021, 9, 22),\n",
       " datetime.date(2021, 9, 24),\n",
       " datetime.date(2021, 10, 2),\n",
       " datetime.date(2021, 10, 9),\n",
       " datetime.date(2021, 10, 19),\n",
       " datetime.date(2021, 10, 20),\n",
       " datetime.date(2021, 10, 22),\n",
       " datetime.date(2021, 10, 23),\n",
       " datetime.date(2021, 10, 24),\n",
       " datetime.date(2021, 10, 25),\n",
       " datetime.date(2021, 11, 13),\n",
       " datetime.date(2021, 11, 15),\n",
       " datetime.date(2021, 11, 17),\n",
       " datetime.date(2021, 11, 20),\n",
       " datetime.date(2021, 12, 1),\n",
       " datetime.date(2021, 12, 3),\n",
       " datetime.date(2021, 12, 6),\n",
       " datetime.date(2021, 12, 10),\n",
       " datetime.date(2021, 12, 16),\n",
       " datetime.date(2021, 12, 19),\n",
       " datetime.date(2021, 12, 23),\n",
       " datetime.date(2021, 12, 31),\n",
       " datetime.date(2022, 1, 4),\n",
       " datetime.date(2022, 1, 6),\n",
       " datetime.date(2022, 1, 7),\n",
       " datetime.date(2022, 1, 9),\n",
       " datetime.date(2022, 1, 10),\n",
       " datetime.date(2022, 1, 14),\n",
       " datetime.date(2022, 1, 21),\n",
       " datetime.date(2022, 2, 1),\n",
       " datetime.date(2022, 2, 4),\n",
       " datetime.date(2022, 2, 6),\n",
       " datetime.date(2022, 2, 11),\n",
       " datetime.date(2022, 2, 17),\n",
       " datetime.date(2022, 2, 20),\n",
       " datetime.date(2022, 2, 23),\n",
       " datetime.date(2022, 2, 24),\n",
       " datetime.date(2022, 2, 25),\n",
       " datetime.date(2022, 3, 4),\n",
       " datetime.date(2022, 3, 6),\n",
       " datetime.date(2022, 3, 15),\n",
       " datetime.date(2022, 3, 18),\n",
       " datetime.date(2022, 3, 19),\n",
       " datetime.date(2022, 3, 21),\n",
       " datetime.date(2022, 3, 22),\n",
       " datetime.date(2022, 3, 24),\n",
       " datetime.date(2022, 4, 6),\n",
       " datetime.date(2022, 4, 18),\n",
       " datetime.date(2022, 4, 20),\n",
       " datetime.date(2022, 4, 24),\n",
       " datetime.date(2022, 4, 29),\n",
       " datetime.date(2022, 5, 3),\n",
       " datetime.date(2022, 5, 13),\n",
       " datetime.date(2022, 5, 23),\n",
       " datetime.date(2022, 5, 26),\n",
       " datetime.date(2022, 6, 5),\n",
       " datetime.date(2022, 6, 15),\n",
       " datetime.date(2022, 6, 19),\n",
       " datetime.date(2022, 7, 11),\n",
       " datetime.date(2022, 7, 15),\n",
       " datetime.date(2022, 7, 16),\n",
       " datetime.date(2022, 7, 26),\n",
       " datetime.date(2022, 7, 27),\n",
       " datetime.date(2022, 7, 30),\n",
       " datetime.date(2022, 8, 6),\n",
       " datetime.date(2022, 8, 7),\n",
       " datetime.date(2022, 8, 10),\n",
       " datetime.date(2022, 8, 11),\n",
       " datetime.date(2022, 8, 12),\n",
       " datetime.date(2022, 8, 13),\n",
       " datetime.date(2022, 8, 15),\n",
       " datetime.date(2022, 8, 21),\n",
       " datetime.date(2022, 8, 27),\n",
       " datetime.date(2022, 8, 28),\n",
       " datetime.date(2022, 9, 3),\n",
       " datetime.date(2022, 9, 4),\n",
       " datetime.date(2022, 9, 5),\n",
       " datetime.date(2022, 9, 10),\n",
       " datetime.date(2022, 9, 14),\n",
       " datetime.date(2022, 9, 21),\n",
       " datetime.date(2022, 9, 26),\n",
       " datetime.date(2022, 9, 30),\n",
       " datetime.date(2022, 10, 1),\n",
       " datetime.date(2022, 10, 6),\n",
       " datetime.date(2022, 10, 10),\n",
       " datetime.date(2022, 10, 13),\n",
       " datetime.date(2022, 10, 15),\n",
       " datetime.date(2022, 10, 22),\n",
       " datetime.date(2022, 11, 1),\n",
       " datetime.date(2022, 11, 19),\n",
       " datetime.date(2022, 11, 20),\n",
       " datetime.date(2022, 11, 21),\n",
       " datetime.date(2022, 11, 24),\n",
       " datetime.date(2022, 11, 26),\n",
       " datetime.date(2022, 11, 28),\n",
       " datetime.date(2022, 12, 2),\n",
       " datetime.date(2022, 12, 10),\n",
       " datetime.date(2022, 12, 11),\n",
       " datetime.date(2022, 12, 23),\n",
       " datetime.date(2022, 12, 26),\n",
       " datetime.date(2022, 12, 27),\n",
       " datetime.date(2022, 12, 30),\n",
       " datetime.date(2023, 1, 1),\n",
       " datetime.date(2023, 1, 4),\n",
       " datetime.date(2023, 1, 7),\n",
       " datetime.date(2023, 1, 14),\n",
       " datetime.date(2023, 1, 28),\n",
       " datetime.date(2023, 1, 31)]"
      ]
     },
     "execution_count": 327,
     "metadata": {},
     "output_type": "execute_result"
    }
   ],
   "source": [
    "selected_days"
   ]
  },
  {
   "cell_type": "code",
   "execution_count": null,
   "id": "03f005eb",
   "metadata": {},
   "outputs": [],
   "source": []
  }
 ],
 "metadata": {
  "kernelspec": {
   "display_name": "Python 3 (ipykernel)",
   "language": "python",
   "name": "python3"
  },
  "language_info": {
   "codemirror_mode": {
    "name": "ipython",
    "version": 3
   },
   "file_extension": ".py",
   "mimetype": "text/x-python",
   "name": "python",
   "nbconvert_exporter": "python",
   "pygments_lexer": "ipython3",
   "version": "3.9.7"
  }
 },
 "nbformat": 4,
 "nbformat_minor": 5
}
