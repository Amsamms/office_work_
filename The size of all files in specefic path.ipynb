{
 "cells": [
  {
   "cell_type": "code",
   "execution_count": 3,
   "id": "e5e10a34",
   "metadata": {},
   "outputs": [],
   "source": [
    "import pandas as pd\n",
    "import os\n",
    "import numpy as np"
   ]
  },
  {
   "cell_type": "code",
   "execution_count": 4,
   "id": "d4ddee67",
   "metadata": {},
   "outputs": [],
   "source": [
    "root_path=r'\\\\eprom\\fs\\technical'"
   ]
  },
  {
   "cell_type": "code",
   "execution_count": 5,
   "id": "d6f6c0a8",
   "metadata": {},
   "outputs": [],
   "source": [
    "os.chdir(root_path)"
   ]
  },
  {
   "cell_type": "code",
   "execution_count": 6,
   "id": "9ac76cfb",
   "metadata": {
    "scrolled": false
   },
   "outputs": [],
   "source": [
    "files_list=[]\n",
    "files_size=[]\n",
    "files_path=[]\n",
    "for path,folders,files in os.walk(root_path):\n",
    "    for file in files:\n",
    "        try:\n",
    "            files_list.append(file)\n",
    "        except:\n",
    "            files_list.append(np.nan)\n",
    "        try:\n",
    "            files_size.append(os.path.getsize(os.path.join(path,file)))\n",
    "        except:\n",
    "            files_size.append(np.nan)\n",
    "        try:                        \n",
    "            files_path.append(os.path.join(path,file))\n",
    "        except:\n",
    "            files_path.append(np.nan)            "
   ]
  },
  {
   "cell_type": "code",
   "execution_count": 7,
   "id": "83710e71",
   "metadata": {},
   "outputs": [
    {
     "data": {
      "text/plain": [
       "270410"
      ]
     },
     "execution_count": 7,
     "metadata": {},
     "output_type": "execute_result"
    }
   ],
   "source": [
    "len(files_list)"
   ]
  },
  {
   "cell_type": "code",
   "execution_count": 8,
   "id": "b18ed624",
   "metadata": {},
   "outputs": [
    {
     "data": {
      "text/plain": [
       "270410"
      ]
     },
     "execution_count": 8,
     "metadata": {},
     "output_type": "execute_result"
    }
   ],
   "source": [
    "len(files_size)"
   ]
  },
  {
   "cell_type": "code",
   "execution_count": 9,
   "id": "9c3452b9",
   "metadata": {},
   "outputs": [
    {
     "data": {
      "text/plain": [
       "270410"
      ]
     },
     "execution_count": 9,
     "metadata": {},
     "output_type": "execute_result"
    }
   ],
   "source": [
    "len(files_path)"
   ]
  },
  {
   "cell_type": "code",
   "execution_count": 10,
   "id": "4af1a320",
   "metadata": {},
   "outputs": [],
   "source": [
    "df=pd.DataFrame()"
   ]
  },
  {
   "cell_type": "code",
   "execution_count": 11,
   "id": "5e70a80c",
   "metadata": {},
   "outputs": [],
   "source": [
    "df['files_list']=files_list\n",
    "df['files_size']=files_size\n",
    "df['files_path']=files_path"
   ]
  },
  {
   "cell_type": "code",
   "execution_count": 12,
   "id": "842da9a6",
   "metadata": {},
   "outputs": [],
   "source": [
    "os.chdir(r'F:\\learning')"
   ]
  },
  {
   "cell_type": "code",
   "execution_count": 13,
   "id": "774fb424",
   "metadata": {},
   "outputs": [],
   "source": [
    "df.sort_values(by='files_size',ascending=False).to_csv('data on F.csv')"
   ]
  }
 ],
 "metadata": {
  "kernelspec": {
   "display_name": "Python 3 (ipykernel)",
   "language": "python",
   "name": "python3"
  },
  "language_info": {
   "codemirror_mode": {
    "name": "ipython",
    "version": 3
   },
   "file_extension": ".py",
   "mimetype": "text/x-python",
   "name": "python",
   "nbconvert_exporter": "python",
   "pygments_lexer": "ipython3",
   "version": "3.9.7"
  }
 },
 "nbformat": 4,
 "nbformat_minor": 5
}
