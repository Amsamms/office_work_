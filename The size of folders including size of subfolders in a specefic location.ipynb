{
 "cells": [
  {
   "cell_type": "code",
   "execution_count": 1,
   "id": "740630a7",
   "metadata": {},
   "outputs": [],
   "source": [
    "import pandas as pd\n",
    "import os\n",
    "import numpy as np"
   ]
  },
  {
   "cell_type": "code",
   "execution_count": 2,
   "id": "df66e57b",
   "metadata": {},
   "outputs": [],
   "source": [
    "root_path = r'D:\\\\'\n",
    "os.chdir(root_path)"
   ]
  },
  {
   "cell_type": "code",
   "execution_count": 3,
   "id": "2502630c",
   "metadata": {},
   "outputs": [],
   "source": [
    "folder_list = []\n",
    "folder_size = []\n",
    "folder_path = []"
   ]
  },
  {
   "cell_type": "code",
   "execution_count": 4,
   "id": "f8c76a7b",
   "metadata": {},
   "outputs": [],
   "source": [
    "for path, folders, files in os.walk(root_path):\n",
    "    folder_list.append(os.path.basename(path))\n",
    "    folder_size.append(sum(os.path.getsize(os.path.join(path, file)) for file in files))\n",
    "    folder_path.append(path)"
   ]
  },
  {
   "cell_type": "code",
   "execution_count": 5,
   "id": "e19b2362",
   "metadata": {},
   "outputs": [],
   "source": [
    "df = pd.DataFrame()\n",
    "df['folder_list'] = folder_list\n",
    "df['folder_size'] = folder_size\n",
    "df['folder_path'] = folder_path\n",
    "df['folder_size'] = df['folder_size'] / 1073741824"
   ]
  },
  {
   "cell_type": "code",
   "execution_count": 6,
   "id": "8c294c98",
   "metadata": {},
   "outputs": [],
   "source": [
    "df = df.sort_values(by='folder_size', ascending=False)\n",
    "df['sum_folder_size'] = df.groupby(df['folder_path'].str[:-1].str.rstrip(os.sep)).transform('sum')['folder_size']\n",
    "\n",
    "os.chdir(r'F:\\learning')\n",
    "df.sort_values(by='sum_folder_size', ascending=False).to_csv('data on F.csv')"
   ]
  }
 ],
 "metadata": {
  "kernelspec": {
   "display_name": "Python 3 (ipykernel)",
   "language": "python",
   "name": "python3"
  },
  "language_info": {
   "codemirror_mode": {
    "name": "ipython",
    "version": 3
   },
   "file_extension": ".py",
   "mimetype": "text/x-python",
   "name": "python",
   "nbconvert_exporter": "python",
   "pygments_lexer": "ipython3",
   "version": "3.9.7"
  }
 },
 "nbformat": 4,
 "nbformat_minor": 5
}
