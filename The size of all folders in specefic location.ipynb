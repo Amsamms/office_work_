{
 "cells": [
  {
   "cell_type": "code",
   "execution_count": 31,
   "id": "fc819b93",
   "metadata": {},
   "outputs": [],
   "source": [
    "import pandas as pd\n",
    "import os\n",
    "import numpy as np"
   ]
  },
  {
   "cell_type": "code",
   "execution_count": 32,
   "id": "78716222",
   "metadata": {},
   "outputs": [],
   "source": [
    "root_path = r'\\\\eprom\\fs\\technical'\n",
    "os.chdir(root_path)"
   ]
  },
  {
   "cell_type": "code",
   "execution_count": 33,
   "id": "2844657d",
   "metadata": {},
   "outputs": [],
   "source": [
    "folder_list = []\n",
    "folder_size = []\n",
    "folder_path = []"
   ]
  },
  {
   "cell_type": "code",
   "execution_count": 34,
   "id": "1fb4378e",
   "metadata": {},
   "outputs": [],
   "source": [
    "for path, folders, files in os.walk(root_path):\n",
    "    try:\n",
    "        folder_list.append(os.path.basename(path))\n",
    "    except:\n",
    "        folder_list.append(np.nan)\n",
    "    try:\n",
    "        folder_size.append(sum(os.path.getsize(os.path.join(path, file)) for file in files)/1073741824)\n",
    "    except:\n",
    "        folder_size.append(np.nan)\n",
    "    try:\n",
    "        folder_path.append(path)\n",
    "    except:\n",
    "        folder_path.append(np.nan)"
   ]
  },
  {
   "cell_type": "code",
   "execution_count": 35,
   "id": "28408ccc",
   "metadata": {},
   "outputs": [],
   "source": [
    "df = pd.DataFrame()\n",
    "df['folder_Name'] = folder_list\n",
    "df['folder_Size_GB']= folder_size\n",
    "df['folder_Path'] = folder_path\n",
    "\n",
    "os.chdir(r'F:\\learning')\n",
    "df.sort_values(by='folder_Size_GB', ascending=False).to_csv('Folder size.csv',index=False)"
   ]
  },
  {
   "cell_type": "code",
   "execution_count": null,
   "id": "aee2aa24",
   "metadata": {},
   "outputs": [],
   "source": []
  }
 ],
 "metadata": {
  "kernelspec": {
   "display_name": "Python 3 (ipykernel)",
   "language": "python",
   "name": "python3"
  },
  "language_info": {
   "codemirror_mode": {
    "name": "ipython",
    "version": 3
   },
   "file_extension": ".py",
   "mimetype": "text/x-python",
   "name": "python",
   "nbconvert_exporter": "python",
   "pygments_lexer": "ipython3",
   "version": "3.9.7"
  }
 },
 "nbformat": 4,
 "nbformat_minor": 5
}
