{
 "cells": [
  {
   "cell_type": "code",
   "execution_count": 1,
   "id": "0ba7fb9f",
   "metadata": {},
   "outputs": [],
   "source": [
    "import shutil\n",
    "import os\n",
    "import re"
   ]
  },
  {
   "cell_type": "code",
   "execution_count": 11,
   "id": "1824b2fd",
   "metadata": {},
   "outputs": [],
   "source": [
    "src=r'\\\\eprom\\fs\\lab result'\n",
    "dst= r'D:\\Lab'"
   ]
  },
  {
   "cell_type": "code",
   "execution_count": 7,
   "id": "e9fb4644",
   "metadata": {},
   "outputs": [],
   "source": [
    "pattern='\\d{1,2}[.]\\d{1,2}[.](2018|2019|2020|2021|2022)[.](xlsx|xls)'"
   ]
  },
  {
   "cell_type": "code",
   "execution_count": 12,
   "id": "90b07f64",
   "metadata": {},
   "outputs": [],
   "source": [
    "for path,folder,file in os.walk(src):\n",
    "    for f in file:\n",
    "        if re.match(pattern,f):\n",
    "            os.chdir(path)\n",
    "            shutil.copy(f,dst)"
   ]
  },
  {
   "cell_type": "code",
   "execution_count": null,
   "id": "81bc7a31",
   "metadata": {},
   "outputs": [],
   "source": []
  }
 ],
 "metadata": {
  "kernelspec": {
   "display_name": "Python 3 (ipykernel)",
   "language": "python",
   "name": "python3"
  },
  "language_info": {
   "codemirror_mode": {
    "name": "ipython",
    "version": 3
   },
   "file_extension": ".py",
   "mimetype": "text/x-python",
   "name": "python",
   "nbconvert_exporter": "python",
   "pygments_lexer": "ipython3",
   "version": "3.9.7"
  }
 },
 "nbformat": 4,
 "nbformat_minor": 5
}
