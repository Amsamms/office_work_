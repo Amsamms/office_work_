{
 "cells": [
  {
   "cell_type": "code",
   "execution_count": null,
   "id": "be6e1b07",
   "metadata": {
    "collapsed": true
   },
   "outputs": [],
   "source": [
    "import os\n",
    "import re"
   ]
  },
  {
   "cell_type": "code",
   "execution_count": 21,
   "id": "47143f2a",
   "metadata": {},
   "outputs": [],
   "source": [
    "pattern_sample='\\d{1,2}[.]\\d{1,2}[.](2018|2019|2020|2021|2022)[.](xlsx|xls)'\n",
    "pattern='^CEM.*\\.pdf$' # use pattern if you need regex"
   ]
  },
  {
   "cell_type": "code",
   "execution_count": 29,
   "id": "7269f0aa",
   "metadata": {},
   "outputs": [],
   "source": [
    "path='C:\\\\'"
   ]
  },
  {
   "cell_type": "code",
   "execution_count": 23,
   "id": "58ba406d",
   "metadata": {},
   "outputs": [],
   "source": [
    "search_term_not_regex='CEM' # use this term if you don't need regex"
   ]
  },
  {
   "cell_type": "markdown",
   "id": "8f8fa9a9",
   "metadata": {},
   "source": [
    "### search for filename"
   ]
  },
  {
   "cell_type": "code",
   "execution_count": 30,
   "id": "01e0b482",
   "metadata": {
    "scrolled": false
   },
   "outputs": [],
   "source": [
    "for path_,folder,file in os.walk(path):\n",
    "    # formatching files names\n",
    "    for f in file:\n",
    "        if re.search(pattern,f,re.IGNORECASE):\n",
    "            print(f)\n",
    "            print(path_)\n",
    "            print('------------------')"
   ]
  },
  {
   "cell_type": "markdown",
   "id": "627a06e5",
   "metadata": {},
   "source": [
    "### search for foldername"
   ]
  },
  {
   "cell_type": "code",
   "execution_count": 16,
   "id": "4772508c",
   "metadata": {
    "collapsed": true
   },
   "outputs": [
    {
     "name": "stdout",
     "output_type": "stream",
     "text": [
      "u-01 CEMS\n",
      "D:\\$RECYCLE.BIN\\S-1-5-21-3675790407-291328211-2634851388-2933\\$RDAXJW6\\04\\10_4_2022\n",
      "------------------\n",
      "CEMS\n",
      "D:\\$RECYCLE.BIN\\S-1-5-21-3675790407-291328211-2634851388-2933\\$RDAXJW6\\04\\19_4_2022\\U-01\n",
      "------------------\n",
      "December 2011\n",
      "D:\\Amr portable hard\\asabri 12-06-12 backup\\Desktop\\time sheets\\Holidays\n",
      "------------------\n",
      "32 Positive displacement pumps\n",
      "D:\\Educational Engineering Videos\n",
      "------------------\n",
      "VGWT 04-T-51 Replacement Shutdown\n",
      "D:\\Fathy PC\\D at Fathy\\- Mails\\Eng Amgad Unit-04 mails\\2009\n",
      "------------------\n",
      "Catalyst Replacement 2006\n",
      "D:\\Fathy PC\\D at Fathy\\- Mails\\Unit-02\n",
      "------------------\n",
      "12December\n",
      "D:\\Fathy PC\\D at Fathy\\DEPARTMENTS\\scheduling\\REHAB movment\\Year 2004\n",
      "------------------\n",
      "12 December05\n",
      "D:\\Fathy PC\\D at Fathy\\DEPARTMENTS\\scheduling\\REHAB movment\\Year2005\n",
      "------------------\n",
      "December 2008\n",
      "D:\\Fathy PC\\D at Fathy\\solommon\\sara files of Solomon\\SMDR 2008\n",
      "------------------\n",
      "Ceramic cement\n",
      "D:\\Mail back-up 28.04.2022\\Personal Folders\\Inbox\\General\\Chem & Cat\n",
      "------------------\n",
      "CEMS\n",
      "D:\\Mail back-up 28.04.2022\\Personal Folders\\Inbox\\General\\Environment\n",
      "------------------\n",
      "CEMS project\n",
      "D:\\Mail back-up 28.04.2022\\Personal Folders\\Inbox\\General\\Heaters\n",
      "------------------\n",
      "Daily cems report\n",
      "D:\\Mail back-up 28.04.2022\\Personal Folders\\Inbox\\General\\Heaters\\CEMS project\n",
      "------------------\n",
      "NHT catalyst replacement\n",
      "D:\\Mail back-up 28.04.2022\\Personal Folders\\Inbox\\General\\Turn Around\\2019\n",
      "------------------\n",
      "Penex catalyst replacement\n",
      "D:\\Mail back-up 28.04.2022\\Personal Folders\\Inbox\\General\\Turn Around\\2019\n",
      "------------------\n",
      "CEMS\n",
      "D:\\Mail back-up 28.04.2022\\Personal Folders\\Inbox\\General\\Turn Around\\2021\\Mar\n",
      "------------------\n",
      "05-R-01 A replacement 2019 Scope of work\n",
      "D:\\Mail back-up 28.04.2022\\Personal Folders\\Inbox\\U-05\\R-01\n",
      "------------------\n",
      "05-R-01 B Replacement 2018 Scope of work\n",
      "D:\\Mail back-up 28.04.2022\\Personal Folders\\Inbox\\U-05\\R-01\n",
      "------------------\n",
      "2019 R-01-A replacement\n",
      "D:\\Mail back-up 28.04.2022\\Personal Folders\\Inbox\\U-05\\Turn Around\n",
      "------------------\n"
     ]
    }
   ],
   "source": [
    "for path_,folder,file in os.walk(path):\n",
    "    # for matching folder names        \n",
    "    for fol in folder:\n",
    "        if re.search(search_term_not_regex,fol, re.IGNORECASE):\n",
    "            print(fol)\n",
    "            print(path_)\n",
    "            print('------------------')"
   ]
  }
 ],
 "metadata": {
  "kernelspec": {
   "display_name": "Python 3 (ipykernel)",
   "language": "python",
   "name": "python3"
  },
  "language_info": {
   "codemirror_mode": {
    "name": "ipython",
    "version": 3
   },
   "file_extension": ".py",
   "mimetype": "text/x-python",
   "name": "python",
   "nbconvert_exporter": "python",
   "pygments_lexer": "ipython3",
   "version": "3.9.7"
  }
 },
 "nbformat": 4,
 "nbformat_minor": 5
}
